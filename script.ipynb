{
 "cells": [
  {
   "cell_type": "code",
   "execution_count": 1,
   "metadata": {
    "ExecuteTime": {
     "end_time": "2021-04-07T12:18:12.286744Z",
     "start_time": "2021-04-07T12:18:12.134786Z"
    }
   },
   "outputs": [],
   "source": [
    "import pandas as pd\n",
    "import numpy as np\n",
    "import re\n",
    "import os\n",
    "import sys\n",
    "import time"
   ]
  },
  {
   "cell_type": "code",
   "execution_count": 2,
   "metadata": {
    "ExecuteTime": {
     "end_time": "2021-04-07T12:18:12.544306Z",
     "start_time": "2021-04-07T12:18:12.540287Z"
    }
   },
   "outputs": [
    {
     "name": "stdout",
     "output_type": "stream",
     "text": [
      "Abriendo carpeta: /workspace/Drillit_script ...\n"
     ]
    }
   ],
   "source": [
    "print('Abriendo carpeta: '+ os.getcwd()+' ...')"
   ]
  },
  {
   "cell_type": "code",
   "execution_count": 3,
   "metadata": {
    "ExecuteTime": {
     "end_time": "2021-04-07T12:18:13.610544Z",
     "start_time": "2021-04-07T12:18:13.607830Z"
    }
   },
   "outputs": [],
   "source": [
    "# timestr = time.strftime(\"%Y%m%d\")\n",
    "# timestr = timestr + \".txt\"\n",
    "# sys.stdout=open(timestr,\"w\")"
   ]
  },
  {
   "cell_type": "code",
   "execution_count": 4,
   "metadata": {
    "ExecuteTime": {
     "end_time": "2021-04-07T12:18:14.628642Z",
     "start_time": "2021-04-07T12:18:14.625667Z"
    }
   },
   "outputs": [],
   "source": [
    "def alerta(list):\n",
    "    #Si no hay ningun falso -> mensaje positivo\n",
    "    if all(list): print (mensaje_pos)\n",
    "    else: print (mensaje_neg)"
   ]
  },
  {
   "cell_type": "code",
   "execution_count": 5,
   "metadata": {
    "ExecuteTime": {
     "end_time": "2021-04-07T12:18:15.077753Z",
     "start_time": "2021-04-07T12:18:15.075091Z"
    },
    "code_folding": []
   },
   "outputs": [],
   "source": [
    "#with open('default_cols.txt', 'w') as f:\n",
    "#    for col in list(data.columns.values):\n",
    "#        f.write(\"%s\\n\" % col)"
   ]
  },
  {
   "cell_type": "markdown",
   "metadata": {},
   "source": [
    "Cargar archivo a comprobar:"
   ]
  },
  {
   "cell_type": "code",
   "execution_count": 6,
   "metadata": {
    "ExecuteTime": {
     "end_time": "2021-04-07T12:18:17.545515Z",
     "start_time": "2021-04-07T12:18:17.535216Z"
    }
   },
   "outputs": [
    {
     "name": "stdout",
     "output_type": "stream",
     "text": [
      "Cargando el archivo MAFXX-banco-malla.csv...\n"
     ]
    }
   ],
   "source": [
    "file_name = 'MAFXX-banco-malla.csv'\n",
    "print('Cargando el archivo '+file_name+'...')\n",
    "data = pd.read_csv(file_name)"
   ]
  },
  {
   "cell_type": "code",
   "execution_count": 7,
   "metadata": {
    "ExecuteTime": {
     "end_time": "2021-04-07T12:18:18.303837Z",
     "start_time": "2021-04-07T12:18:18.299818Z"
    }
   },
   "outputs": [
    {
     "name": "stdout",
     "output_type": "stream",
     "text": [
      "Comprobando nombre del archivo:\n",
      "-> Por definir ...\n"
     ]
    }
   ],
   "source": [
    "#Comprobar nombre del archivo\n",
    "print(\"Comprobando nombre del archivo:\")\n",
    "print(\"-> Por definir ...\")"
   ]
  },
  {
   "cell_type": "markdown",
   "metadata": {},
   "source": [
    "Cargar listas de columnas:"
   ]
  },
  {
   "cell_type": "code",
   "execution_count": 10,
   "metadata": {
    "ExecuteTime": {
     "end_time": "2021-04-07T12:51:09.021285Z",
     "start_time": "2021-04-07T12:51:09.014999Z"
    }
   },
   "outputs": [
    {
     "data": {
      "text/plain": [
       "['MALLA',\n",
       " 'ID POZO',\n",
       " 'DIAMETRO PLG',\n",
       " 'CARGA FONDO DISENO',\n",
       " 'KG FONDO DISENO',\n",
       " 'AIRE FONDO DISENO',\n",
       " 'CARGA COLUMNA  DISENO',\n",
       " 'KG COLUMNA DISENO',\n",
       " 'AIRE INTERMEDIO DISENO',\n",
       " 'GRAVILLA INTERMEDIO DISENO',\n",
       " 'AIRE SUPERIOR DISENO',\n",
       " 'TACO GRAVILLA DISENO',\n",
       " 'SECUENCIA DETONACION DISENO',\n",
       " 'PROFUNDIDAD REAL',\n",
       " 'CARGA FONDO REAL',\n",
       " 'KG FONDO REAL',\n",
       " 'AIRE FONDO REAL',\n",
       " 'CARGA COLUMNA REAL',\n",
       " 'KG COLUMNA REAL',\n",
       " 'AIRE INTERMEDIO REAL',\n",
       " 'GRAVILLA INTERMEDIO REAL',\n",
       " 'AIRE SUPERIOR REAL',\n",
       " 'TACO GRAVILLA REAL',\n",
       " 'SECUENCIA DETONACION REAL',\n",
       " 'AGUA']"
      ]
     },
     "execution_count": 10,
     "metadata": {},
     "output_type": "execute_result"
    }
   ],
   "source": [
    "#Listado de columnas totales por defecto:\n",
    "with open('default_cols.txt', 'r') as f:\n",
    "    default_cols = [str(line.strip()) for line in f]\n",
    "    \n",
    "#Listado de columnas obligatorias y necesarias:    \n",
    "with open('required_cols.txt', 'r') as f:\n",
    "    required_cols = [str(line.strip()) for line in f]\n",
    "default_cols"
   ]
  },
  {
   "cell_type": "markdown",
   "metadata": {
    "ExecuteTime": {
     "end_time": "2021-04-07T03:27:51.298113Z",
     "start_time": "2021-04-07T03:27:51.293823Z"
    }
   },
   "source": [
    "Comprobar si el archivo contiene columnas necesarias:"
   ]
  },
  {
   "cell_type": "code",
   "execution_count": 10,
   "metadata": {
    "ExecuteTime": {
     "end_time": "2021-04-07T12:01:40.945322Z",
     "start_time": "2021-04-07T12:01:40.937394Z"
    },
    "code_folding": []
   },
   "outputs": [],
   "source": [
    "required_cols = ['MALLA', 'ID POZO', 'DIAMETRO PLG']\n",
    "explosivo_diseño = ['KG FONDO REAL']\n",
    "explosivo_real = []\n",
    "important_cols_in_csv = required_cols + explosivo_diseño + explosivo_real\n",
    "\n",
    "if set(required_cols) <= set(default_cols) and (set(explosivo_diseño) <= set(default_cols) or ):\n",
    "    print (\"El archivo SI contiene las columnas necesarias\")\n",
    "else: \n",
    "    print (\"El archivo NO contiene las columnas necesarias\")\n",
    "print(\"*******Falta agregar explosivo*******\")"
   ]
  },
  {
   "cell_type": "markdown",
   "metadata": {},
   "source": [
    "Comprobar si el archivo contiene el número total de columnas que podría tener:"
   ]
  },
  {
   "cell_type": "code",
   "execution_count": 11,
   "metadata": {
    "ExecuteTime": {
     "end_time": "2021-04-07T12:02:03.307982Z",
     "start_time": "2021-04-07T12:02:03.240327Z"
    }
   },
   "outputs": [
    {
     "ename": "NameError",
     "evalue": "name 'file_cols' is not defined",
     "output_type": "error",
     "traceback": [
      "\u001b[0;31m---------------------------------------------------------------------------\u001b[0m",
      "\u001b[0;31mNameError\u001b[0m                                 Traceback (most recent call last)",
      "\u001b[0;32m<ipython-input-11-7883f2acf5eb>\u001b[0m in \u001b[0;36m<module>\u001b[0;34m\u001b[0m\n\u001b[1;32m      7\u001b[0m \u001b[0;31m#Comprueba si esas columnas son iguales:\u001b[0m\u001b[0;34m\u001b[0m\u001b[0;34m\u001b[0m\u001b[0;34m\u001b[0m\u001b[0m\n\u001b[1;32m      8\u001b[0m \u001b[0;32mfor\u001b[0m \u001b[0mn\u001b[0m \u001b[0;32min\u001b[0m \u001b[0mrange\u001b[0m\u001b[0;34m(\u001b[0m\u001b[0;36m0\u001b[0m\u001b[0;34m,\u001b[0m\u001b[0mlen\u001b[0m\u001b[0;34m(\u001b[0m\u001b[0mrequired_cols\u001b[0m\u001b[0;34m)\u001b[0m\u001b[0;34m)\u001b[0m\u001b[0;34m:\u001b[0m\u001b[0;34m\u001b[0m\u001b[0;34m\u001b[0m\u001b[0m\n\u001b[0;32m----> 9\u001b[0;31m     \u001b[0mc\u001b[0m \u001b[0;34m=\u001b[0m \u001b[0mdefault_cols\u001b[0m\u001b[0;34m[\u001b[0m\u001b[0mn\u001b[0m\u001b[0;34m]\u001b[0m\u001b[0;34m.\u001b[0m\u001b[0msplit\u001b[0m\u001b[0;34m(\u001b[0m\u001b[0;34m)\u001b[0m \u001b[0;34m==\u001b[0m \u001b[0mfile_cols\u001b[0m\u001b[0;34m[\u001b[0m\u001b[0mn\u001b[0m\u001b[0;34m]\u001b[0m\u001b[0;34m.\u001b[0m\u001b[0msplit\u001b[0m\u001b[0;34m(\u001b[0m\u001b[0;34m)\u001b[0m\u001b[0;34m\u001b[0m\u001b[0;34m\u001b[0m\u001b[0m\n\u001b[0m\u001b[1;32m     10\u001b[0m     \u001b[0mcheck\u001b[0m\u001b[0;34m.\u001b[0m\u001b[0mappend\u001b[0m\u001b[0;34m(\u001b[0m\u001b[0mc\u001b[0m\u001b[0;34m)\u001b[0m\u001b[0;34m\u001b[0m\u001b[0;34m\u001b[0m\u001b[0m\n\u001b[1;32m     11\u001b[0m \u001b[0;31m#Ejecutar alerta si es necesario\u001b[0m\u001b[0;34m\u001b[0m\u001b[0;34m\u001b[0m\u001b[0;34m\u001b[0m\u001b[0m\n",
      "\u001b[0;31mNameError\u001b[0m: name 'file_cols' is not defined"
     ]
    }
   ],
   "source": [
    "# #Columnas\n",
    "# print(\"Comprobando columnas:\")\n",
    "# check = []\n",
    "# mensaje_neg = \"-> ERROR!, El archivo NO contiene el número total de columnas que podría tener\"\n",
    "# mensaje_pos = \"-> BIEN!, El archivo SI contiene el número total de columnas que podría tener\"\n",
    "\n",
    "# #Comprueba si esas columnas son iguales:\n",
    "# for n in range(0,len(required_cols)):\n",
    "#     c = default_cols[n].split() == file_cols[n].split()\n",
    "#     check.append(c)\n",
    "# #Ejecutar alerta si es necesario\n",
    "# alerta(check)"
   ]
  },
  {
   "cell_type": "code",
   "execution_count": null,
   "metadata": {},
   "outputs": [],
   "source": []
  },
  {
   "cell_type": "code",
   "execution_count": 12,
   "metadata": {
    "ExecuteTime": {
     "end_time": "2021-04-07T12:14:45.414178Z",
     "start_time": "2021-04-07T12:14:45.404730Z"
    }
   },
   "outputs": [],
   "source": [
    "print(\"Comprobando si el nombre de las mallas contiene prefijo válido:\")\n",
    "#Comprobar que el prefijo sea el correcto:\n",
    "check = []\n",
    "mensaje_neg = \"-> ERROR!, El nombre de las mallas NO cumple el formato de prefijos\"\n",
    "mensaje_pos = \"-> BIEN!, El nombre de las mallas SI cumple el formato de prefijos\"\n",
    "\n",
    "#lista de prefijos:\n",
    "prefix_mallas = ['MAF07-R1', 'MAF09-SE', 'MAF10-N', 'MAF11-W']\n",
    "\n",
    "for m in range(0, len(data['MALLA'])):\n",
    "    malla_contiene_prefijo = any(prefix_mallas in data['MALLA'][0] for prefix_mallas in prefix_mallas)\n",
    "    check.append(malla_contiene_prefijo)\n",
    "alerta(check)"
   ]
  },
  {
   "cell_type": "code",
   "execution_count": 13,
   "metadata": {
    "ExecuteTime": {
     "end_time": "2021-04-07T12:14:51.137331Z",
     "start_time": "2021-04-07T12:14:51.134113Z"
    },
    "collapsed": true
   },
   "outputs": [],
   "source": [
    "print('Revisando si existen mallas con sufijo \"_vm\":')\n",
    "suffix = '_vm'\n",
    "suffix_count = sum(1 for s in data['MALLA'] if s.endswith(suffix))\n",
    "print ('-> Se han econtrado '+ str(suffix_count)+' mallas con sufijo \"_vm\"')"
   ]
  },
  {
   "cell_type": "code",
   "execution_count": null,
   "metadata": {
    "ExecuteTime": {
     "end_time": "2021-04-07T11:48:55.637803Z",
     "start_time": "2021-04-07T11:48:55.534Z"
    }
   },
   "outputs": [],
   "source": [
    "#Identificador de Pozo en la malla de perforacion\n",
    "print('Revisando identificador de pozo en la malla de perforación:')\n",
    "id_pozo = pd.to_numeric(data['ID POZO'], errors='coerce')\n",
    "print ('-> Existen '+ str(id_pozo.isna().sum()) + ' pozos que no podrán ser importador por ser AUX o vacio')"
   ]
  },
  {
   "cell_type": "code",
   "execution_count": null,
   "metadata": {
    "ExecuteTime": {
     "end_time": "2021-04-07T11:48:55.639417Z",
     "start_time": "2021-04-07T11:48:55.536Z"
    }
   },
   "outputs": [],
   "source": [
    "print('Asegurando exactitud valores numericos:')\n",
    "data['DIAMETRO PLG'] = np.around(list(map(float, data['DIAMETRO PLG'])),5)\n",
    "data['GRAVILLA INTERMEDIO DISENO '] = np.around(list(map(float, data['GRAVILLA INTERMEDIO DISENO '])),5)\n",
    "data['AIRE INTERMEDIO REAL '] = np.around(list(map(float, data['AIRE INTERMEDIO REAL '])),5)\n",
    "data['TACO GRAVILLA REAL '] = np.around(list(map(float, data['TACO GRAVILLA REAL '])),5)\n",
    "print( '... falta guardar archivo como .csv ...')\n",
    "# data['DIAMETRO PLG']"
   ]
  },
  {
   "cell_type": "code",
   "execution_count": null,
   "metadata": {
    "ExecuteTime": {
     "end_time": "2021-04-07T11:48:55.640615Z",
     "start_time": "2021-04-07T11:48:55.537Z"
    }
   },
   "outputs": [],
   "source": [
    "print ('Asegurando formato de valores ...')\n",
    "print ('1. Asegurando columnas formato texto:')\n",
    "data['MALLA'] = list(map(str, data['MALLA']))\n",
    "data['CARGA FONDO DISENOlo '] = list(map(str, data['CARGA FONDO DISENOlo ']))\n",
    "data['CARGA COLUMNA  DISENO'] = list(map(str, data['CARGA COLUMNA  DISENO']))\n",
    "data['CARGA FONDO REAL '] = list(map(str, data['CARGA FONDO REAL ']))\n",
    "data['CARGA COLUMNA REAL'] = list(map(str, data['CARGA COLUMNA REAL']))\n",
    "print ('-> Formato texto asegurado')\n",
    "print ('2. Asegurando columnas formato numero:')\n",
    "# data['ID POZO'] = list(map(float, data['ID POZO']))\n",
    "# data['DIAMETRO PLG'] = list(map(float, data['DIAMETRO PLG']))\n",
    "data['KG FONDO DISENO '] = list(map(float, data['KG FONDO DISENO ']))\n",
    "data['AIRE FONDO DISENO '] = list(map(float, data['AIRE FONDO DISENO ']))\n",
    "data['KG COLUMNA DISENO'] = list(map(float, data['KG COLUMNA DISENO']))\n",
    "data['AIRE FONDO DISENO '] = list(map(float, data['AIRE FONDO DISENO ']))\n",
    "data['AIRE SUPERIOR DISENO'] = list(map(float, data['AIRE SUPERIOR DISENO']))\n",
    "data['TACO GRAVILLA DISENO '] = list(map(float, data['TACO GRAVILLA DISENO ']))\n",
    "data['SECUENCIA DETONACION DISENO'] = list(map(float, data['SECUENCIA DETONACION DISENO']))\n",
    "data['PROFUNDIDAD REAL'] = list(map(float, data['PROFUNDIDAD REAL']))\n",
    "data['KG FONDO REAL '] = list(map(float, data['KG FONDO REAL ']))\n",
    "data['AIRE FONDO REAL '] = list(map(float, data['AIRE FONDO REAL ']))\n",
    "data['KG COLUMNA REAL'] = list(map(float, data['KG COLUMNA REAL']))\n",
    "data['AIRE SUPERIOR REAL'] = list(map(float, data['AIRE SUPERIOR REAL']))\n",
    "data['SECUENCIA DETONACION REAL'] = list(map(float, data['SECUENCIA DETONACION REAL']))\n",
    "data['AGUA'] = list(map(float, data['AGUA']))\n",
    "print ('-> Formato numérico asegurado')"
   ]
  },
  {
   "cell_type": "code",
   "execution_count": null,
   "metadata": {
    "ExecuteTime": {
     "end_time": "2021-04-07T11:48:55.642571Z",
     "start_time": "2021-04-07T11:48:55.539Z"
    }
   },
   "outputs": [],
   "source": [
    "print ('Comprobando información mínima de carga:')\n",
    "print ('Existen '+ str(len(data['MALLA']))+' mallas válidas')\n",
    "print ('Existen '+ str(len(data['ID POZO']))+' id_pozo válidos')\n",
    "print ('Existen '+ str(len(data['DIAMETRO PLG']))+' diámetros PGL válidos')"
   ]
  },
  {
   "cell_type": "code",
   "execution_count": null,
   "metadata": {
    "ExecuteTime": {
     "end_time": "2021-04-07T11:48:55.643682Z",
     "start_time": "2021-04-07T11:48:55.540Z"
    }
   },
   "outputs": [],
   "source": [
    "list(data.columns.values)"
   ]
  },
  {
   "cell_type": "code",
   "execution_count": null,
   "metadata": {
    "ExecuteTime": {
     "end_time": "2021-04-07T11:48:55.645000Z",
     "start_time": "2021-04-07T11:48:55.541Z"
    }
   },
   "outputs": [],
   "source": [
    "#Nombre archivo\n",
    "#Comprobar digitos de la MALLA\n",
    "#Comprobar explosivo diseño y real"
   ]
  },
  {
   "cell_type": "code",
   "execution_count": null,
   "metadata": {
    "ExecuteTime": {
     "end_time": "2021-04-07T11:48:55.646431Z",
     "start_time": "2021-04-07T11:48:55.545Z"
    }
   },
   "outputs": [],
   "source": [
    "print (\"algo diferente\")"
   ]
  },
  {
   "cell_type": "code",
   "execution_count": null,
   "metadata": {
    "ExecuteTime": {
     "end_time": "2021-04-07T11:48:55.647577Z",
     "start_time": "2021-04-07T11:48:55.548Z"
    }
   },
   "outputs": [],
   "source": [
    "# sys.stdout.close()"
   ]
  },
  {
   "cell_type": "code",
   "execution_count": null,
   "metadata": {},
   "outputs": [],
   "source": []
  }
 ],
 "metadata": {
  "kernelspec": {
   "display_name": "Python 3",
   "language": "python",
   "name": "python3"
  },
  "language_info": {
   "codemirror_mode": {
    "name": "ipython",
    "version": 3
   },
   "file_extension": ".py",
   "mimetype": "text/x-python",
   "name": "python",
   "nbconvert_exporter": "python",
   "pygments_lexer": "ipython3",
   "version": "3.8.5"
  },
  "toc": {
   "base_numbering": 1,
   "nav_menu": {},
   "number_sections": false,
   "sideBar": true,
   "skip_h1_title": false,
   "title_cell": "Table of Contents",
   "title_sidebar": "Contents",
   "toc_cell": false,
   "toc_position": {},
   "toc_section_display": true,
   "toc_window_display": false
  }
 },
 "nbformat": 4,
 "nbformat_minor": 4
}
