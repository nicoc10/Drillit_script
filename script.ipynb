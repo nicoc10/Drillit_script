{
 "cells": [
  {
   "cell_type": "code",
   "execution_count": 247,
   "metadata": {},
   "outputs": [],
   "source": [
    "import pandas as pd\n",
    "import numpy as np\n",
    "import re\n",
    "import os "
   ]
  },
  {
   "cell_type": "code",
   "execution_count": 234,
   "metadata": {},
   "outputs": [
    {
     "name": "stdout",
     "output_type": "stream",
     "text": [
      "Abriendo carpeta: /home/nicolas/Workspace/AMSA-script ...\n"
     ]
    }
   ],
   "source": [
    "print('Abriendo carpeta: '+ os.getcwd()+' ...')"
   ]
  },
  {
   "cell_type": "code",
   "execution_count": 195,
   "metadata": {},
   "outputs": [],
   "source": [
    "def alerta(list):\n",
    "    #Si no hay ningun falso -> mensaje positivo\n",
    "    if all(list): print (mensaje_pos)\n",
    "    else: print (mensaje_neg)"
   ]
  },
  {
   "cell_type": "code",
   "execution_count": 261,
   "metadata": {},
   "outputs": [],
   "source": [
    "#with open('default_cols.txt', 'w') as f:\n",
    "#    for col in list(data.columns.values):\n",
    "#        f.write(\"%s\\n\" % col)"
   ]
  },
  {
   "cell_type": "markdown",
   "metadata": {},
   "source": [
    "Cargar archivo a comprobar:"
   ]
  },
  {
   "cell_type": "code",
   "execution_count": 262,
   "metadata": {},
   "outputs": [
    {
     "name": "stdout",
     "output_type": "stream",
     "text": [
      "Cargando el archivo MAFXX-banco-malla_error.csv...\n"
     ]
    }
   ],
   "source": [
    "file_name = 'MAFXX-banco-malla_error.csv'\n",
    "print('Cargando el archivo '+file_name+'...')\n",
    "data = pd.read_csv(file_name)"
   ]
  },
  {
   "cell_type": "code",
   "execution_count": 263,
   "metadata": {},
   "outputs": [
    {
     "name": "stdout",
     "output_type": "stream",
     "text": [
      "Comprobando nombre del archivo:\n",
      "-> Por definir ...\n"
     ]
    }
   ],
   "source": [
    "#Comprobar nombre del archivo\n",
    "print(\"Comprobando nombre del archivo:\")\n",
    "print(\"-> Por definir ...\")"
   ]
  },
  {
   "cell_type": "code",
   "execution_count": 264,
   "metadata": {},
   "outputs": [],
   "source": [
    "with open('default_cols.txt', 'r') as f:\n",
    "    default_cols = [str(line.strip()) for line in f]"
   ]
  },
  {
   "cell_type": "code",
   "execution_count": 265,
   "metadata": {},
   "outputs": [
    {
     "name": "stdout",
     "output_type": "stream",
     "text": [
      "Comprobando columnas:\n",
      "-> ERROR!, El archivo NO contiene las columnas necesarias\n"
     ]
    }
   ],
   "source": [
    "#Columnas\n",
    "print(\"Comprobando columnas:\")\n",
    "check = []\n",
    "mensaje_neg = \"-> ERROR!, El archivo NO contiene las columnas necesarias\"\n",
    "mensaje_pos = \"-> BIEN!, El archivo SI contiene las columnas necesarias\"\n",
    "\n",
    "#Comprueba si tienen el mismo numero de cols:\n",
    "file_cols = list(data.columns.values)\n",
    "col_numb = len(file_cols)==len(default_cols)\n",
    "check.append(col_numb)\n",
    "#Comprueba si esas columnas son iguales:\n",
    "for n in range(0,len(default_cols)):\n",
    "    c = default_cols[n].split() == file_cols[n].split()\n",
    "    check.append(c)\n",
    "#Ejecutar alerta si es necesario\n",
    "alerta(check)"
   ]
  },
  {
   "cell_type": "code",
   "execution_count": 266,
   "metadata": {},
   "outputs": [
    {
     "name": "stdout",
     "output_type": "stream",
     "text": [
      "Comprobando si el nombre de las mallas contiene prefijo válido:\n",
      "-> BIEN!, El nombre de las mallas SI cumple el formato de prefijos\n"
     ]
    }
   ],
   "source": [
    "print(\"Comprobando si el nombre de las mallas contiene prefijo válido:\")\n",
    "#Comprobar que el prefijo sea el correcto:\n",
    "check = []\n",
    "mensaje_neg = \"-> ERROR!, El nombre de las mallas NO cumple el formato de prefijos\"\n",
    "mensaje_pos = \"-> BIEN!, El nombre de las mallas SI cumple el formato de prefijos\"\n",
    "\n",
    "#lista de prefijos:\n",
    "prefix_mallas = ['MAF07-R1', 'MAF09-SE', 'MAF10-N', 'MAF11-W']\n",
    "\n",
    "for m in range(0, len(data['MALLA'])):\n",
    "    malla_contiene_prefijo = any(prefix_mallas in data['MALLA'][0] for prefix_mallas in prefix_mallas)\n",
    "    check.append(malla_contiene_prefijo)\n",
    "alerta(check)"
   ]
  },
  {
   "cell_type": "code",
   "execution_count": 267,
   "metadata": {},
   "outputs": [
    {
     "name": "stdout",
     "output_type": "stream",
     "text": [
      "Revisando si existen mallas con sufijo \"_vm\":\n",
      "-> Se han econtrado 144 mallas con sufijo \"_vm\"\n"
     ]
    }
   ],
   "source": [
    "print('Revisando si existen mallas con sufijo \"_vm\":')\n",
    "suffix = '_vm'\n",
    "suffix_count = sum(1 for s in data['MALLA'] if s.endswith(suffix))\n",
    "print ('-> Se han econtrado '+ str(suffix_count)+' mallas con sufijo \"_vm\"')"
   ]
  },
  {
   "cell_type": "code",
   "execution_count": 268,
   "metadata": {},
   "outputs": [
    {
     "name": "stdout",
     "output_type": "stream",
     "text": [
      "Revisando identificador de pozo en la malla de perforación:\n",
      "-> Existen 5 pozos que no podrán ser importador por ser AUX o vacio\n"
     ]
    }
   ],
   "source": [
    "#Identificador de Pozo en la malla de perforacion\n",
    "print('Revisando identificador de pozo en la malla de perforación:')\n",
    "id_pozo = pd.to_numeric(data['ID POZO'], errors='coerce')\n",
    "print ('-> Existen '+ str(id_pozo.isna().sum()) + ' pozos que no podrán ser importador por ser AUX o vacio')"
   ]
  },
  {
   "cell_type": "code",
   "execution_count": 276,
   "metadata": {},
   "outputs": [
    {
     "name": "stdout",
     "output_type": "stream",
     "text": [
      "Asegurando exactitud valores numericos:\n",
      "... falta guardar archivo como .csv ...\n"
     ]
    }
   ],
   "source": [
    "print('Asegurando exactitud valores numericos:')\n",
    "data['DIAMETRO PLG'] = np.around(list(map(float, data['DIAMETRO PLG'])),5)\n",
    "data['GRAVILLA INTERMEDIO DISENO '] = np.around(list(map(float, data['GRAVILLA INTERMEDIO DISENO '])),5)\n",
    "data['AIRE INTERMEDIO REAL '] = np.around(list(map(float, data['AIRE INTERMEDIO REAL '])),5)\n",
    "data['TACO GRAVILLA REAL '] = np.around(list(map(float, data['TACO GRAVILLA REAL '])),5)\n",
    "print( '... falta guardar archivo como .csv ...')\n",
    "# data['DIAMETRO PLG']"
   ]
  },
  {
   "cell_type": "code",
   "execution_count": 286,
   "metadata": {},
   "outputs": [
    {
     "name": "stdout",
     "output_type": "stream",
     "text": [
      "Asegurando formato de valores ...\n",
      "1. Asegurando columnas formato texto:\n",
      "-> Formato texto asegurado\n",
      "2. Asegurando columnas formato numero:\n",
      "-> Formato numérico asegurado\n"
     ]
    }
   ],
   "source": [
    "print ('Asegurando formato de valores ...')\n",
    "print ('1. Asegurando columnas formato texto:')\n",
    "data['MALLA'] = list(map(str, data['MALLA']))\n",
    "data['CARGA FONDO DISENOlo '] = list(map(str, data['CARGA FONDO DISENOlo ']))\n",
    "data['CARGA COLUMNA  DISENO'] = list(map(str, data['CARGA COLUMNA  DISENO']))\n",
    "data['CARGA FONDO REAL '] = list(map(str, data['CARGA FONDO REAL ']))\n",
    "data['CARGA COLUMNA REAL'] = list(map(str, data['CARGA COLUMNA REAL']))\n",
    "print ('-> Formato texto asegurado')\n",
    "print ('2. Asegurando columnas formato numero:')\n",
    "# data['ID POZO'] = list(map(float, data['ID POZO']))\n",
    "# data['DIAMETRO PLG'] = list(map(float, data['DIAMETRO PLG']))\n",
    "data['KG FONDO DISENO '] = list(map(float, data['KG FONDO DISENO ']))\n",
    "data['AIRE FONDO DISENO '] = list(map(float, data['AIRE FONDO DISENO ']))\n",
    "data['KG COLUMNA DISENO'] = list(map(float, data['KG COLUMNA DISENO']))\n",
    "data['AIRE FONDO DISENO '] = list(map(float, data['AIRE FONDO DISENO ']))\n",
    "data['AIRE SUPERIOR DISENO'] = list(map(float, data['AIRE SUPERIOR DISENO']))\n",
    "data['TACO GRAVILLA DISENO '] = list(map(float, data['TACO GRAVILLA DISENO ']))\n",
    "data['SECUENCIA DETONACION DISENO'] = list(map(float, data['SECUENCIA DETONACION DISENO']))\n",
    "data['PROFUNDIDAD REAL'] = list(map(float, data['PROFUNDIDAD REAL']))\n",
    "data['KG FONDO REAL '] = list(map(float, data['KG FONDO REAL ']))\n",
    "data['AIRE FONDO REAL '] = list(map(float, data['AIRE FONDO REAL ']))\n",
    "data['KG COLUMNA REAL'] = list(map(float, data['KG COLUMNA REAL']))\n",
    "data['AIRE SUPERIOR REAL'] = list(map(float, data['AIRE SUPERIOR REAL']))\n",
    "data['SECUENCIA DETONACION REAL'] = list(map(float, data['SECUENCIA DETONACION REAL']))\n",
    "data['AGUA'] = list(map(float, data['AGUA']))\n",
    "print ('-> Formato numérico asegurado')"
   ]
  },
  {
   "cell_type": "code",
   "execution_count": 306,
   "metadata": {},
   "outputs": [
    {
     "name": "stdout",
     "output_type": "stream",
     "text": [
      "Comprobando información mínima de carga:\n",
      "Existen 144 mallas válidas\n",
      "Existen 144 id_pozo válidos\n",
      "Existen 144 diámetros PGL válidos\n"
     ]
    }
   ],
   "source": [
    "print ('Comprobando información mínima de carga:')\n",
    "print ('Existen '+ str(len(data['MALLA']))+' mallas válidas')\n",
    "print ('Existen '+ str(len(data['ID POZO']))+' id_pozo válidos')\n",
    "print ('Existen '+ str(len(data['DIAMETRO PLG']))+' diámetros PGL válidos')"
   ]
  },
  {
   "cell_type": "code",
   "execution_count": 278,
   "metadata": {},
   "outputs": [
    {
     "data": {
      "text/plain": [
       "['MALLA',\n",
       " 'ID POZO',\n",
       " 'DIAMETRO PLG',\n",
       " 'CARGA FONDO DISENOlo ',\n",
       " 'KG FONDO DISENO ',\n",
       " 'AIRE FONDO DISENO ',\n",
       " 'CARGA COLUMNA  DISENO',\n",
       " 'KG COLUMNA DISENO',\n",
       " 'AIRE INTERMEDIO DISENO ',\n",
       " 'GRAVILLA INTERMEDIO DISENO ',\n",
       " 'AIRE SUPERIOR DISENO',\n",
       " 'TACO GRAVILLA DISENO ',\n",
       " 'SECUENCIA DETONACION DISENO',\n",
       " 'PROFUNDIDAD REAL',\n",
       " 'CARGA FONDO REAL ',\n",
       " 'KG FONDO REAL ',\n",
       " 'AIRE FONDO REAL ',\n",
       " 'CARGA COLUMNA REAL',\n",
       " 'KG COLUMNA REAL',\n",
       " 'AIRE INTERMEDIO REAL ',\n",
       " 'GRAVILLA INTERMEDIO REAL ',\n",
       " 'AIRE SUPERIOR REAL',\n",
       " 'TACO GRAVILLA REAL ',\n",
       " 'SECUENCIA DETONACION REAL',\n",
       " 'AGUA']"
      ]
     },
     "execution_count": 278,
     "metadata": {},
     "output_type": "execute_result"
    }
   ],
   "source": [
    "list(data.columns.values)"
   ]
  },
  {
   "cell_type": "code",
   "execution_count": 307,
   "metadata": {},
   "outputs": [],
   "source": [
    "#Nombre archivo\n",
    "#Comprobar digitos de la MALLA\n",
    "#Comprobar explosivo diseño y real"
   ]
  },
  {
   "cell_type": "code",
   "execution_count": null,
   "metadata": {},
   "outputs": [],
   "source": []
  }
 ],
 "metadata": {
  "kernelspec": {
   "display_name": "Python 3",
   "language": "python",
   "name": "python3"
  },
  "language_info": {
   "codemirror_mode": {
    "name": "ipython",
    "version": 3
   },
   "file_extension": ".py",
   "mimetype": "text/x-python",
   "name": "python",
   "nbconvert_exporter": "python",
   "pygments_lexer": "ipython3",
   "version": "3.8.5"
  }
 },
 "nbformat": 4,
 "nbformat_minor": 4
}
