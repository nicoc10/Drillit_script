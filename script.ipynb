{
 "cells": [
  {
   "cell_type": "markdown",
   "metadata": {},
   "source": [
    "## Requerimientos"
   ]
  },
  {
   "cell_type": "code",
   "execution_count": 1,
   "metadata": {
    "ExecuteTime": {
     "end_time": "2021-04-08T20:41:53.811954Z",
     "start_time": "2021-04-08T20:41:53.642487Z"
    }
   },
   "outputs": [],
   "source": [
    "import pandas as pd\n",
    "import numpy as np\n",
    "import re\n",
    "import os\n",
    "import sys\n",
    "import time\n",
    "import os\n",
    "import glob"
   ]
  },
  {
   "cell_type": "markdown",
   "metadata": {},
   "source": [
    "## Archivo y directorio"
   ]
  },
  {
   "cell_type": "code",
   "execution_count": 2,
   "metadata": {
    "ExecuteTime": {
     "end_time": "2021-04-08T20:41:53.817099Z",
     "start_time": "2021-04-08T20:41:53.814258Z"
    }
   },
   "outputs": [],
   "source": [
    "os.path.abspath('')\n",
    "path = os.path.abspath('')"
   ]
  },
  {
   "cell_type": "code",
   "execution_count": 3,
   "metadata": {
    "ExecuteTime": {
     "end_time": "2021-04-08T20:41:53.845559Z",
     "start_time": "2021-04-08T20:41:53.819312Z"
    }
   },
   "outputs": [
    {
     "name": "stdout",
     "output_type": "stream",
     "text": [
      "Abriendo carpeta: /workspace/Drillit_script ...\n"
     ]
    }
   ],
   "source": [
    "print('Abriendo carpeta: '+ path +' ...')"
   ]
  },
  {
   "cell_type": "code",
   "execution_count": 4,
   "metadata": {
    "ExecuteTime": {
     "end_time": "2021-04-08T20:41:53.870197Z",
     "start_time": "2021-04-08T20:41:53.847534Z"
    }
   },
   "outputs": [],
   "source": [
    "timestr = time.strftime(\"%Y%m%d\")\n",
    "timestr = timestr \n",
    "# sys.stdout=open(timestr + \".txt\",\"w\")"
   ]
  },
  {
   "cell_type": "code",
   "execution_count": 5,
   "metadata": {
    "ExecuteTime": {
     "end_time": "2021-04-08T20:41:53.894007Z",
     "start_time": "2021-04-08T20:41:53.872957Z"
    }
   },
   "outputs": [],
   "source": [
    "def alerta(list):\n",
    "    #Si no hay ningun falso -> mensaje positivo\n",
    "    if all(list): print (mensaje_pos)\n",
    "    else: print (mensaje_neg)"
   ]
  },
  {
   "cell_type": "code",
   "execution_count": 6,
   "metadata": {
    "ExecuteTime": {
     "end_time": "2021-04-08T20:41:53.917574Z",
     "start_time": "2021-04-08T20:41:53.896303Z"
    },
    "code_folding": []
   },
   "outputs": [],
   "source": [
    "#with open('default_cols.txt', 'w') as f:\n",
    "#    for col in list(data.columns.values):\n",
    "#        f.write(\"%s\\n\" % col)"
   ]
  },
  {
   "cell_type": "markdown",
   "metadata": {},
   "source": [
    "Cargar archivo a comprobar:"
   ]
  },
  {
   "cell_type": "code",
   "execution_count": 7,
   "metadata": {
    "ExecuteTime": {
     "end_time": "2021-04-08T20:41:53.942967Z",
     "start_time": "2021-04-08T20:41:53.921204Z"
    }
   },
   "outputs": [
    {
     "name": "stdout",
     "output_type": "stream",
     "text": [
      "['Valid-02.01.21 MAF7-R1-2750-03-05-B.csv', 'NoParaCargar20210408.csv', '20210407.csv', 'Invalid-02.01.21 MAF7-R1-2750-03-05-B.csv', 'Valid-02.01.21 MAF7-R1-2750-03-05-B.csv.csv', 'MAFXX-banco-malla_error.csv', '20210407.txt.csv', 'Valid02.01.21 MAF7-R1-2750-03-05-B.csv.csv', 'MAFXX-banco-malla.csv', '01.01.21 MAF9-SE-3320-01-02-A.csv', 'Invalid-02.01.21 MAF7-R1-2750-03-05-B.csv.csv', 'Valid20210408.csv', 'columna.csv', 'Invalid20210408.csv', '20210408.csv']\n"
     ]
    }
   ],
   "source": [
    "extension = 'csv'\n",
    "os.chdir(path)\n",
    "result = glob.glob('*.{}'.format(extension))\n",
    "print(result)"
   ]
  },
  {
   "cell_type": "code",
   "execution_count": 8,
   "metadata": {
    "ExecuteTime": {
     "end_time": "2021-04-08T20:41:53.971202Z",
     "start_time": "2021-04-08T20:41:53.945603Z"
    }
   },
   "outputs": [
    {
     "name": "stdout",
     "output_type": "stream",
     "text": [
      "Cargando el archivo Raw_data/31.01.21 MAF10-N-3245-03-60-A.csv...\n"
     ]
    }
   ],
   "source": [
    "folder = 'Raw_data/'\n",
    "file_name = '31.01.21 MAF10-N-3245-03-60-A'\n",
    "extension = '.csv'\n",
    "final_name = folder+file_name+extension\n",
    "print('Cargando el archivo '+final_name+'...')\n",
    "data = pd.read_csv(folder+file_name+extension, header=0)\n",
    "df = data.copy()"
   ]
  },
  {
   "cell_type": "markdown",
   "metadata": {},
   "source": [
    "## Pre-procesamiento de columnas"
   ]
  },
  {
   "cell_type": "code",
   "execution_count": 9,
   "metadata": {
    "ExecuteTime": {
     "end_time": "2021-04-08T20:41:53.991577Z",
     "start_time": "2021-04-08T20:41:53.973619Z"
    }
   },
   "outputs": [],
   "source": [
    "#Listado de columnas totales por defecto:\n",
    "with open('default_cols.txt', 'r') as f:\n",
    "    default_cols = [str(line.strip()) for line in f]\n",
    "    \n",
    "#Listado de columnas obligatorias y necesarias:    \n",
    "with open('required_cols.txt', 'r') as f:\n",
    "    required_cols = [str(line.strip()) for line in f]\n",
    "    \n",
    "default_cols[3] = default_cols[3].replace('CARGA FONDO DISENO', 'CARGA FONDO DISENO ')\n",
    "default_cols[4] = default_cols[4].replace('KG FONDO DISENO', 'KG FONDO DISENO ')\n",
    "default_cols[5] = default_cols[5].replace('AIRE FONDO DISENO', 'AIRE FONDO DISENO ')\n",
    "default_cols[8] = default_cols[8].replace('AIRE INTERMEDIO DISENO', 'AIRE INTERMEDIO DISENO ')\n",
    "default_cols[9] = default_cols[9].replace('GRAVILLA INTERMEDIO DISENO', 'GRAVILLA INTERMEDIO DISENO ')\n",
    "default_cols[11] = default_cols[11].replace('TACO GRAVILLA DISENO', 'TACO GRAVILLA DISENO ')\n",
    "default_cols[14] = default_cols[14].replace('CARGA FONDO REAL', 'CARGA FONDO REAL ')\n",
    "default_cols[15] = default_cols[15].replace('KG FONDO REAL', 'KG FONDO REAL ')\n",
    "default_cols[16] = default_cols[16].replace('AIRE FONDO REAL', 'AIRE FONDO REAL ')\n",
    "default_cols[19] = default_cols[19].replace('AIRE INTERMEDIO REAL', 'AIRE INTERMEDIO REAL ')\n",
    "default_cols[20] = default_cols[20].replace('GRAVILLA INTERMEDIO REAL', 'GRAVILLA INTERMEDIO REAL ')\n",
    "default_cols[22] = default_cols[22].replace('TACO GRAVILLA REAL', 'TACO GRAVILLA REAL ')"
   ]
  },
  {
   "cell_type": "markdown",
   "metadata": {},
   "source": [
    "## Tratamiento de explosivos"
   ]
  },
  {
   "cell_type": "markdown",
   "metadata": {
    "heading_collapsed": true
   },
   "source": [
    "### Pre procesamiento explosivos"
   ]
  },
  {
   "cell_type": "code",
   "execution_count": 10,
   "metadata": {
    "ExecuteTime": {
     "end_time": "2021-04-08T20:41:54.023949Z",
     "start_time": "2021-04-08T20:41:53.994596Z"
    },
    "code_folding": [],
    "hidden": true
   },
   "outputs": [
    {
     "name": "stdout",
     "output_type": "stream",
     "text": [
      "El archivo SI contiene las columnas necesarias\n",
      "De las columnas obligatorias, el archivo: \n",
      "Contiene: MALLA ID POZO DIAMETRO PLG\n",
      "Contiene: CARGA FONDO DISENO  KG FONDO DISENO CARGA FONDO REAL  KG FONDO REAL \n",
      "Contiene: CARGA COLUMNA  DISENO KG COLUMNA DISENOCARGA COLUMNA REAL KG COLUMNA REAL\n"
     ]
    }
   ],
   "source": [
    "required_cols = ['MALLA', 'ID POZO', 'DIAMETRO PLG']\n",
    "#Fondo\n",
    "fondo_diseno = ['CARGA FONDO DISENO ', 'KG FONDO DISENO ']\n",
    "fondo_real = ['CARGA FONDO REAL ', 'KG FONDO REAL ']\n",
    "#Diseno\n",
    "columna_diseno = ['CARGA COLUMNA  DISENO', 'KG COLUMNA DISENO']\n",
    "columna_real = ['CARGA COLUMNA REAL', 'KG COLUMNA REAL']\n",
    "\n",
    "\n",
    "necessary_cols_in_csv = []\n",
    "\n",
    "if set(required_cols) <= set(default_cols) and (\n",
    "(set(fondo_diseno) <= set(default_cols) and set(fondo_real) <= set(default_cols)) or\n",
    "(set(columna_diseno) <= set(default_cols) and set(columna_real) <= set(default_cols))    \n",
    "): print (\"El archivo SI contiene las columnas necesarias\")\n",
    "else: \n",
    "    print (\"El archivo NO contiene las columnas necesarias\")\n",
    "\n",
    "#imprimir cols necesarias:\n",
    "print('De las columnas obligatorias, el archivo: ')\n",
    "if set(required_cols) <= set(default_cols): print ('Contiene: ' + ' '.join(required_cols))\n",
    "else: print ('No contiene: ' + ''.join(required_cols))\n",
    "    \n",
    "if (set(fondo_diseno) <= set(default_cols) and set(fondo_real) <= set(default_cols)): print ('Contiene: ' + ' '.join(fondo_diseno) + ' '.join(fondo_real))\n",
    "else: print ('No contiene: ' + ' '.join(fondo_diseno) + ' '.join(fondo_real))\n",
    "    \n",
    "if (set(columna_diseno) <= set(default_cols) and set(columna_real) <= set(default_cols)): print ('Contiene: ' + ' '.join(columna_diseno) + ' '.join(columna_real))\n",
    "else: print ('No contiene: ' + ' '.join(columna_diseno) + ' '.join(columna_real))\n",
    "    \n",
    "    \n",
    "#Crear lista de columnas necesarias que si tiene el archvo:\n",
    "if set(required_cols) <= set(default_cols): necessary_cols_in_csv.extend(required_cols)\n",
    "if (set(fondo_diseno) <= set(default_cols) and set(fondo_real) <= set(default_cols)): necessary_cols_in_csv.extend(fondo_diseno+fondo_real)\n",
    "if (set(columna_diseno) <= set(default_cols) and set(columna_real) <= set(default_cols)): necessary_cols_in_csv.extend(columna_diseno+columna_real)\n",
    "\n",
    "\n",
    "#Armar la lista de [valores required_cols] + [explisvo real] +  [explosivo planificado]"
   ]
  },
  {
   "cell_type": "markdown",
   "metadata": {
    "ExecuteTime": {
     "end_time": "2021-04-08T12:11:55.216258Z",
     "start_time": "2021-04-08T12:11:55.211507Z"
    },
    "heading_collapsed": true
   },
   "source": [
    "### Explosivo caso 1: Carga de Fondo"
   ]
  },
  {
   "cell_type": "markdown",
   "metadata": {
    "hidden": true
   },
   "source": [
    "Conservar solo las que son posibles de cargar con explosivos de fondo o mas"
   ]
  },
  {
   "cell_type": "code",
   "execution_count": 11,
   "metadata": {
    "ExecuteTime": {
     "end_time": "2021-04-08T20:41:54.062047Z",
     "start_time": "2021-04-08T20:41:54.026183Z"
    },
    "hidden": true
   },
   "outputs": [],
   "source": [
    "fondo_cols = ['CARGA FONDO DISENO ','KG FONDO DISENO ','CARGA FONDO REAL ','KG FONDO REAL ']"
   ]
  },
  {
   "cell_type": "code",
   "execution_count": 12,
   "metadata": {
    "ExecuteTime": {
     "end_time": "2021-04-08T20:41:54.113769Z",
     "start_time": "2021-04-08T20:41:54.063813Z"
    },
    "hidden": true
   },
   "outputs": [
    {
     "data": {
      "text/html": [
       "<div>\n",
       "<style scoped>\n",
       "    .dataframe tbody tr th:only-of-type {\n",
       "        vertical-align: middle;\n",
       "    }\n",
       "\n",
       "    .dataframe tbody tr th {\n",
       "        vertical-align: top;\n",
       "    }\n",
       "\n",
       "    .dataframe thead th {\n",
       "        text-align: right;\n",
       "    }\n",
       "</style>\n",
       "<table border=\"1\" class=\"dataframe\">\n",
       "  <thead>\n",
       "    <tr style=\"text-align: right;\">\n",
       "      <th></th>\n",
       "      <th>CARGA FONDO DISENO</th>\n",
       "      <th>KG FONDO DISENO</th>\n",
       "      <th>CARGA FONDO REAL</th>\n",
       "      <th>KG FONDO REAL</th>\n",
       "    </tr>\n",
       "  </thead>\n",
       "  <tbody>\n",
       "    <tr>\n",
       "      <th>0</th>\n",
       "      <td>VERTEX 30</td>\n",
       "      <td>171.0</td>\n",
       "      <td>VERTEX 30</td>\n",
       "      <td>171.0</td>\n",
       "    </tr>\n",
       "    <tr>\n",
       "      <th>1</th>\n",
       "      <td>VERTEX 30</td>\n",
       "      <td>171.0</td>\n",
       "      <td>VERTEX 30</td>\n",
       "      <td>171.0</td>\n",
       "    </tr>\n",
       "    <tr>\n",
       "      <th>2</th>\n",
       "      <td>VERTEX 30</td>\n",
       "      <td>171.0</td>\n",
       "      <td>VERTEX 30</td>\n",
       "      <td>171.0</td>\n",
       "    </tr>\n",
       "    <tr>\n",
       "      <th>3</th>\n",
       "      <td>VERTEX 30</td>\n",
       "      <td>171.0</td>\n",
       "      <td>VERTEX 30</td>\n",
       "      <td>171.0</td>\n",
       "    </tr>\n",
       "    <tr>\n",
       "      <th>4</th>\n",
       "      <td>VERTEX 30</td>\n",
       "      <td>171.0</td>\n",
       "      <td>VERTEX 30</td>\n",
       "      <td>171.0</td>\n",
       "    </tr>\n",
       "  </tbody>\n",
       "</table>\n",
       "</div>"
      ],
      "text/plain": [
       "  CARGA FONDO DISENO   KG FONDO DISENO  CARGA FONDO REAL   KG FONDO REAL \n",
       "0           VERTEX 30             171.0         VERTEX 30           171.0\n",
       "1           VERTEX 30             171.0         VERTEX 30           171.0\n",
       "2           VERTEX 30             171.0         VERTEX 30           171.0\n",
       "3           VERTEX 30             171.0         VERTEX 30           171.0\n",
       "4           VERTEX 30             171.0         VERTEX 30           171.0"
      ]
     },
     "execution_count": 12,
     "metadata": {},
     "output_type": "execute_result"
    }
   ],
   "source": [
    "df_fondo_ready = df.dropna(subset=['CARGA FONDO DISENO ','KG FONDO DISENO ','CARGA FONDO REAL ','KG FONDO REAL '])\n",
    "df_fondo_ready[fondo_cols].head(5)"
   ]
  },
  {
   "cell_type": "markdown",
   "metadata": {},
   "source": [
    "### Explosivo caso 2: Carga de Columna"
   ]
  },
  {
   "cell_type": "markdown",
   "metadata": {
    "ExecuteTime": {
     "end_time": "2021-04-08T12:29:33.239916Z",
     "start_time": "2021-04-08T12:29:33.236381Z"
    }
   },
   "source": [
    "Conservar solo las que son posibles de cargar con explosivos de columna o mas"
   ]
  },
  {
   "cell_type": "code",
   "execution_count": 13,
   "metadata": {
    "ExecuteTime": {
     "end_time": "2021-04-08T20:41:54.127157Z",
     "start_time": "2021-04-08T20:41:54.116190Z"
    }
   },
   "outputs": [],
   "source": [
    "columna_cols = ['CARGA COLUMNA  DISENO','KG COLUMNA DISENO','CARGA COLUMNA REAL','KG COLUMNA REAL']"
   ]
  },
  {
   "cell_type": "code",
   "execution_count": 14,
   "metadata": {
    "ExecuteTime": {
     "end_time": "2021-04-08T20:41:54.162686Z",
     "start_time": "2021-04-08T20:41:54.129170Z"
    }
   },
   "outputs": [
    {
     "data": {
      "text/html": [
       "<div>\n",
       "<style scoped>\n",
       "    .dataframe tbody tr th:only-of-type {\n",
       "        vertical-align: middle;\n",
       "    }\n",
       "\n",
       "    .dataframe tbody tr th {\n",
       "        vertical-align: top;\n",
       "    }\n",
       "\n",
       "    .dataframe thead th {\n",
       "        text-align: right;\n",
       "    }\n",
       "</style>\n",
       "<table border=\"1\" class=\"dataframe\">\n",
       "  <thead>\n",
       "    <tr style=\"text-align: right;\">\n",
       "      <th></th>\n",
       "      <th>CARGA COLUMNA  DISENO</th>\n",
       "      <th>KG COLUMNA DISENO</th>\n",
       "      <th>CARGA COLUMNA REAL</th>\n",
       "      <th>KG COLUMNA REAL</th>\n",
       "    </tr>\n",
       "  </thead>\n",
       "  <tbody>\n",
       "    <tr>\n",
       "      <th>100</th>\n",
       "      <td>VERTEX 50</td>\n",
       "      <td>100.0</td>\n",
       "      <td>VERTEX 50</td>\n",
       "      <td>100.0</td>\n",
       "    </tr>\n",
       "    <tr>\n",
       "      <th>114</th>\n",
       "      <td>VERTEX 50</td>\n",
       "      <td>100.0</td>\n",
       "      <td>VERTEX 50</td>\n",
       "      <td>100.0</td>\n",
       "    </tr>\n",
       "    <tr>\n",
       "      <th>115</th>\n",
       "      <td>VERTEX 50</td>\n",
       "      <td>100.0</td>\n",
       "      <td>VERTEX 50</td>\n",
       "      <td>100.0</td>\n",
       "    </tr>\n",
       "    <tr>\n",
       "      <th>129</th>\n",
       "      <td>VERTEX 50</td>\n",
       "      <td>100.0</td>\n",
       "      <td>VERTEX 50</td>\n",
       "      <td>100.0</td>\n",
       "    </tr>\n",
       "    <tr>\n",
       "      <th>130</th>\n",
       "      <td>VERTEX 50</td>\n",
       "      <td>100.0</td>\n",
       "      <td>VERTEX 50</td>\n",
       "      <td>100.0</td>\n",
       "    </tr>\n",
       "  </tbody>\n",
       "</table>\n",
       "</div>"
      ],
      "text/plain": [
       "    CARGA COLUMNA  DISENO  KG COLUMNA DISENO CARGA COLUMNA REAL  \\\n",
       "100             VERTEX 50              100.0          VERTEX 50   \n",
       "114             VERTEX 50              100.0          VERTEX 50   \n",
       "115             VERTEX 50              100.0          VERTEX 50   \n",
       "129             VERTEX 50              100.0          VERTEX 50   \n",
       "130             VERTEX 50              100.0          VERTEX 50   \n",
       "\n",
       "     KG COLUMNA REAL  \n",
       "100            100.0  \n",
       "114            100.0  \n",
       "115            100.0  \n",
       "129            100.0  \n",
       "130            100.0  "
      ]
     },
     "execution_count": 14,
     "metadata": {},
     "output_type": "execute_result"
    }
   ],
   "source": [
    "df_columna_ready = df.dropna(subset=['CARGA COLUMNA  DISENO','KG COLUMNA DISENO','CARGA COLUMNA REAL','KG COLUMNA REAL'])\n",
    "(df_columna_ready[columna_cols]).head(5)\n",
    "# df_columna_ready.to_csv('columna' + \".csv\", index=False)"
   ]
  },
  {
   "cell_type": "markdown",
   "metadata": {},
   "source": [
    "### Explosivo caso 3: Carga de Fondo y Columna"
   ]
  },
  {
   "cell_type": "code",
   "execution_count": 15,
   "metadata": {
    "ExecuteTime": {
     "end_time": "2021-04-08T20:41:54.204789Z",
     "start_time": "2021-04-08T20:41:54.164929Z"
    }
   },
   "outputs": [
    {
     "data": {
      "text/html": [
       "<div>\n",
       "<style scoped>\n",
       "    .dataframe tbody tr th:only-of-type {\n",
       "        vertical-align: middle;\n",
       "    }\n",
       "\n",
       "    .dataframe tbody tr th {\n",
       "        vertical-align: top;\n",
       "    }\n",
       "\n",
       "    .dataframe thead th {\n",
       "        text-align: right;\n",
       "    }\n",
       "</style>\n",
       "<table border=\"1\" class=\"dataframe\">\n",
       "  <thead>\n",
       "    <tr style=\"text-align: right;\">\n",
       "      <th></th>\n",
       "      <th>CARGA FONDO DISENO</th>\n",
       "      <th>KG FONDO DISENO</th>\n",
       "      <th>CARGA FONDO REAL</th>\n",
       "      <th>KG FONDO REAL</th>\n",
       "      <th>CARGA COLUMNA  DISENO</th>\n",
       "      <th>KG COLUMNA DISENO</th>\n",
       "      <th>CARGA COLUMNA REAL</th>\n",
       "      <th>KG COLUMNA REAL</th>\n",
       "    </tr>\n",
       "  </thead>\n",
       "  <tbody>\n",
       "    <tr>\n",
       "      <th>100</th>\n",
       "      <td>VERTEX 50</td>\n",
       "      <td>1054.0</td>\n",
       "      <td>VERTEX 50</td>\n",
       "      <td>954.0</td>\n",
       "      <td>VERTEX 50</td>\n",
       "      <td>100.0</td>\n",
       "      <td>VERTEX 50</td>\n",
       "      <td>100.0</td>\n",
       "    </tr>\n",
       "    <tr>\n",
       "      <th>114</th>\n",
       "      <td>VERTEX 50</td>\n",
       "      <td>1054.0</td>\n",
       "      <td>VERTEX 50</td>\n",
       "      <td>954.0</td>\n",
       "      <td>VERTEX 50</td>\n",
       "      <td>100.0</td>\n",
       "      <td>VERTEX 50</td>\n",
       "      <td>100.0</td>\n",
       "    </tr>\n",
       "    <tr>\n",
       "      <th>115</th>\n",
       "      <td>VERTEX 50</td>\n",
       "      <td>1054.0</td>\n",
       "      <td>VERTEX 50</td>\n",
       "      <td>954.0</td>\n",
       "      <td>VERTEX 50</td>\n",
       "      <td>100.0</td>\n",
       "      <td>VERTEX 50</td>\n",
       "      <td>100.0</td>\n",
       "    </tr>\n",
       "    <tr>\n",
       "      <th>129</th>\n",
       "      <td>VERTEX 50</td>\n",
       "      <td>1054.0</td>\n",
       "      <td>VERTEX 50</td>\n",
       "      <td>954.0</td>\n",
       "      <td>VERTEX 50</td>\n",
       "      <td>100.0</td>\n",
       "      <td>VERTEX 50</td>\n",
       "      <td>100.0</td>\n",
       "    </tr>\n",
       "    <tr>\n",
       "      <th>130</th>\n",
       "      <td>VERTEX 50</td>\n",
       "      <td>1054.0</td>\n",
       "      <td>VERTEX 50</td>\n",
       "      <td>954.0</td>\n",
       "      <td>VERTEX 50</td>\n",
       "      <td>100.0</td>\n",
       "      <td>VERTEX 50</td>\n",
       "      <td>100.0</td>\n",
       "    </tr>\n",
       "  </tbody>\n",
       "</table>\n",
       "</div>"
      ],
      "text/plain": [
       "    CARGA FONDO DISENO   KG FONDO DISENO  CARGA FONDO REAL   KG FONDO REAL   \\\n",
       "100           VERTEX 50            1054.0         VERTEX 50           954.0   \n",
       "114           VERTEX 50            1054.0         VERTEX 50           954.0   \n",
       "115           VERTEX 50            1054.0         VERTEX 50           954.0   \n",
       "129           VERTEX 50            1054.0         VERTEX 50           954.0   \n",
       "130           VERTEX 50            1054.0         VERTEX 50           954.0   \n",
       "\n",
       "    CARGA COLUMNA  DISENO  KG COLUMNA DISENO CARGA COLUMNA REAL  \\\n",
       "100             VERTEX 50              100.0          VERTEX 50   \n",
       "114             VERTEX 50              100.0          VERTEX 50   \n",
       "115             VERTEX 50              100.0          VERTEX 50   \n",
       "129             VERTEX 50              100.0          VERTEX 50   \n",
       "130             VERTEX 50              100.0          VERTEX 50   \n",
       "\n",
       "     KG COLUMNA REAL  \n",
       "100            100.0  \n",
       "114            100.0  \n",
       "115            100.0  \n",
       "129            100.0  \n",
       "130            100.0  "
      ]
     },
     "execution_count": 15,
     "metadata": {},
     "output_type": "execute_result"
    }
   ],
   "source": [
    "cols = fondo_cols+columna_cols\n",
    "df_both_explosives = df.dropna(subset=['CARGA COLUMNA  DISENO',\n",
    "                                       'KG COLUMNA DISENO',\n",
    "                                       'CARGA COLUMNA REAL',\n",
    "                                       'KG COLUMNA REAL',\n",
    "                                       'CARGA FONDO DISENO ',\n",
    "                                       'KG FONDO DISENO ',\n",
    "                                       'CARGA FONDO REAL ',\n",
    "                                       'KG FONDO REAL '])\n",
    "df_both_explosives[cols].head(5)"
   ]
  },
  {
   "cell_type": "markdown",
   "metadata": {},
   "source": [
    "### Consolidación explosivos"
   ]
  },
  {
   "cell_type": "code",
   "execution_count": 16,
   "metadata": {
    "ExecuteTime": {
     "end_time": "2021-04-08T20:41:54.246253Z",
     "start_time": "2021-04-08T20:41:54.206924Z"
    }
   },
   "outputs": [],
   "source": [
    "#Valido pero solo con fondo\n",
    "df_only_fondo = pd.concat([df_fondo_ready,df_both_explosives]).drop_duplicates(keep=False)\n",
    "#Valido pero solo con columna\n",
    "df_only_columna = pd.concat([df_columna_ready,df_both_explosives]).drop_duplicates(keep=False)"
   ]
  },
  {
   "cell_type": "code",
   "execution_count": 17,
   "metadata": {
    "ExecuteTime": {
     "end_time": "2021-04-08T20:41:54.265607Z",
     "start_time": "2021-04-08T20:41:54.248507Z"
    }
   },
   "outputs": [],
   "source": [
    "filtered_aux = pd.concat([df_only_columna,df_only_fondo])\n",
    "filtered_df = pd.concat([filtered_aux,df_both_explosives])\n",
    "# filtered_df.to_csv(timestr + \".csv\", index=False)"
   ]
  },
  {
   "cell_type": "code",
   "execution_count": 18,
   "metadata": {
    "ExecuteTime": {
     "end_time": "2021-04-08T20:41:54.301461Z",
     "start_time": "2021-04-08T20:41:54.267779Z"
    }
   },
   "outputs": [],
   "source": [
    "df_not_ready = pd.concat([df,filtered_df]).drop_duplicates(keep=False)\n",
    "# df_not_ready = union[union.isnull().any(axis=1)]\n",
    "# not_ready_name = \"NoParaCargar\" + timestr\n",
    "# df_not_ready.to_csv(not_ready_name + \".csv\", index=False)"
   ]
  },
  {
   "cell_type": "code",
   "execution_count": 19,
   "metadata": {
    "ExecuteTime": {
     "end_time": "2021-04-08T20:41:54.328225Z",
     "start_time": "2021-04-08T20:41:54.303326Z"
    }
   },
   "outputs": [],
   "source": [
    "# df_len = int(len(df))\n",
    "# filtered_len = int(len(filtered_df))\n",
    "# outer_len = int(len(df_not_ready))\n",
    "# print(df_len)\n",
    "# print(filtered_len)\n",
    "# print(outer_len)"
   ]
  },
  {
   "cell_type": "markdown",
   "metadata": {},
   "source": [
    "Comprobar si el archivo contiene el número total de columnas que podría tener:"
   ]
  },
  {
   "cell_type": "markdown",
   "metadata": {},
   "source": [
    "## Tratamiento de Mallas"
   ]
  },
  {
   "cell_type": "code",
   "execution_count": 20,
   "metadata": {
    "ExecuteTime": {
     "end_time": "2021-04-08T20:41:54.360099Z",
     "start_time": "2021-04-08T20:41:54.330364Z"
    }
   },
   "outputs": [
    {
     "data": {
      "text/plain": [
       "0      MAF10-N-3245-03\n",
       "1      MAF10-N-3245-03\n",
       "2      MAF10-N-3245-03\n",
       "3      MAF10-N-3245-03\n",
       "4      MAF10-N-3245-03\n",
       "            ...       \n",
       "131    MAF10-N-3245-03\n",
       "143    MAF10-N-3245-03\n",
       "151    MAF10-N-3245-03\n",
       "160    MAF10-N-3245-03\n",
       "166    MAF10-N-3245-03\n",
       "Name: MALLA, Length: 183, dtype: object"
      ]
     },
     "execution_count": 20,
     "metadata": {},
     "output_type": "execute_result"
    }
   ],
   "source": [
    "df = filtered_df.copy()\n",
    "df['MALLA']"
   ]
  },
  {
   "cell_type": "code",
   "execution_count": 21,
   "metadata": {
    "ExecuteTime": {
     "end_time": "2021-04-08T20:41:54.387267Z",
     "start_time": "2021-04-08T20:41:54.361827Z"
    }
   },
   "outputs": [
    {
     "name": "stdout",
     "output_type": "stream",
     "text": [
      "Comprobando si el nombre de las mallas contiene prefijo válido:\n"
     ]
    }
   ],
   "source": [
    "print(\"Comprobando si el nombre de las mallas contiene prefijo válido:\")\n",
    "#Comprobar que el prefijo sea el correcto:\n",
    "check = []\n",
    "mensaje_neg = \"-> ERROR!, El nombre de las mallas NO cumple el formato de prefijos\"\n",
    "mensaje_pos = \"-> BIEN!, El nombre de las mallas SI cumple el formato de prefijos\"\n",
    "\n",
    "#lista de prefijos:\n",
    "# prefix_mallas = ['MAF07-R1', 'MAF09-SE', 'MAF10-N', 'MAF11-W', 'MAF9-SE','MAF7']\n",
    "\n",
    "# for m in range(0, len(df['MALLA'])):\n",
    "#     malla_contiene_prefijo = any(prefix_mallas in df['MALLA'][0] for prefix_mallas in prefix_mallas)\n",
    "#     check.append(malla_contiene_prefijo)\n",
    "# alerta(check)"
   ]
  },
  {
   "cell_type": "code",
   "execution_count": 22,
   "metadata": {
    "ExecuteTime": {
     "end_time": "2021-04-08T20:41:54.402180Z",
     "start_time": "2021-04-08T20:41:54.391655Z"
    }
   },
   "outputs": [
    {
     "name": "stdout",
     "output_type": "stream",
     "text": [
      "Revisando si existen mallas con sufijo \"_vm\":\n",
      "-> Se han econtrado 0 mallas con sufijo \"_vm\"\n"
     ]
    }
   ],
   "source": [
    "print('Revisando si existen mallas con sufijo \"_vm\":')\n",
    "suffix = '_vm'\n",
    "suffix_count = sum(1 for s in df['MALLA'] if s.endswith(suffix))\n",
    "print ('-> Se han econtrado '+ str(suffix_count)+' mallas con sufijo \"_vm\"')"
   ]
  },
  {
   "cell_type": "markdown",
   "metadata": {},
   "source": [
    "## Tratamiento de pozos"
   ]
  },
  {
   "cell_type": "code",
   "execution_count": 23,
   "metadata": {
    "ExecuteTime": {
     "end_time": "2021-04-08T20:41:54.415124Z",
     "start_time": "2021-04-08T20:41:54.404891Z"
    }
   },
   "outputs": [
    {
     "name": "stdout",
     "output_type": "stream",
     "text": [
      "Revisando identificador de pozo en la malla de perforación:\n",
      "-> Existen 0 pozos que no podrán ser importador por ser AUX o vacio\n"
     ]
    }
   ],
   "source": [
    "#Identificador de Pozo en la malla de perforacion\n",
    "print('Revisando identificador de pozo en la malla de perforación:')\n",
    "id_pozo = pd.to_numeric(df['ID POZO'], errors='coerce')\n",
    "print ('-> Existen '+ str(id_pozo.isna().sum()) + ' pozos que no podrán ser importador por ser AUX o vacio')"
   ]
  },
  {
   "cell_type": "code",
   "execution_count": 24,
   "metadata": {
    "ExecuteTime": {
     "end_time": "2021-04-08T20:41:54.426762Z",
     "start_time": "2021-04-08T20:41:54.417467Z"
    }
   },
   "outputs": [],
   "source": [
    "df_id_pozo = df.dropna(subset=['ID POZO'])\n",
    "df_id_pozo['ID POZO'] = list(map(str, df_id_pozo['ID POZO']))\n",
    "# df_id_pozo = df[~df['ID POZO'].contains(\"AUX\")]\n",
    "# df_id_pozo['ID POZO']"
   ]
  },
  {
   "cell_type": "code",
   "execution_count": 25,
   "metadata": {
    "ExecuteTime": {
     "end_time": "2021-04-08T20:41:54.440033Z",
     "start_time": "2021-04-08T20:41:54.428881Z"
    }
   },
   "outputs": [
    {
     "data": {
      "text/plain": [
       "0       101\n",
       "1       102\n",
       "2       103\n",
       "3       104\n",
       "4       105\n",
       "       ... \n",
       "131     909\n",
       "143    1006\n",
       "151    1101\n",
       "160    1203\n",
       "166    1301\n",
       "Name: ID POZO, Length: 183, dtype: object"
      ]
     },
     "execution_count": 25,
     "metadata": {},
     "output_type": "execute_result"
    }
   ],
   "source": [
    "df_id_pozo['ID POZO']"
   ]
  },
  {
   "cell_type": "markdown",
   "metadata": {},
   "source": [
    "## Formato de valores "
   ]
  },
  {
   "cell_type": "code",
   "execution_count": 26,
   "metadata": {
    "ExecuteTime": {
     "end_time": "2021-04-08T20:41:54.449392Z",
     "start_time": "2021-04-08T20:41:54.442104Z"
    }
   },
   "outputs": [],
   "source": [
    "df = df_id_pozo.copy()"
   ]
  },
  {
   "cell_type": "code",
   "execution_count": 27,
   "metadata": {
    "ExecuteTime": {
     "end_time": "2021-04-08T20:41:54.461555Z",
     "start_time": "2021-04-08T20:41:54.451048Z"
    }
   },
   "outputs": [
    {
     "name": "stdout",
     "output_type": "stream",
     "text": [
      "Asegurando exactitud valores numericos:\n"
     ]
    }
   ],
   "source": [
    "print('Asegurando exactitud valores numericos:')\n",
    "df['DIAMETRO PLG'] = np.around(list(map(float, df['DIAMETRO PLG'])),5)\n",
    "df['GRAVILLA INTERMEDIO DISENO '] = np.around(list(map(float, df['GRAVILLA INTERMEDIO DISENO '])),5)\n",
    "df['AIRE INTERMEDIO REAL '] = np.around(list(map(float, df['AIRE INTERMEDIO REAL '])),5)\n",
    "# df['TACO GRAVILLA REAL '] = np.around(list(map(float, df['TACO GRAVILLA REAL '])),5)\n",
    "# data['DIAMETRO PLG']"
   ]
  },
  {
   "cell_type": "code",
   "execution_count": 28,
   "metadata": {
    "ExecuteTime": {
     "end_time": "2021-04-08T20:41:54.480561Z",
     "start_time": "2021-04-08T20:41:54.463275Z"
    }
   },
   "outputs": [
    {
     "name": "stdout",
     "output_type": "stream",
     "text": [
      "Asegurando formato de valores ...\n",
      "1. Asegurando columnas formato texto:\n",
      "-> Formato texto asegurado\n",
      "2. Asegurando columnas formato numero:\n",
      "-> Formato numérico asegurado\n"
     ]
    }
   ],
   "source": [
    "print ('Asegurando formato de valores ...')\n",
    "print ('1. Asegurando columnas formato texto:')\n",
    "df['MALLA'] = list(map(str, df['MALLA']))\n",
    "df['CARGA FONDO DISENOlo '] = list(map(str, df['CARGA FONDO DISENO ']))\n",
    "df['CARGA COLUMNA  DISENO'] = list(map(str, df['CARGA COLUMNA  DISENO']))\n",
    "df['CARGA FONDO REAL '] = list(map(str, df['CARGA FONDO REAL ']))\n",
    "df['CARGA COLUMNA REAL'] = list(map(str, df['CARGA COLUMNA REAL']))\n",
    "print ('-> Formato texto asegurado')\n",
    "print ('2. Asegurando columnas formato numero:')\n",
    "# df['ID POZO'] = list(map(float, df['ID POZO']))\n",
    "# df['DIAMETRO PLG'] = list(map(float, df['DIAMETRO PLG']))\n",
    "df['KG FONDO DISENO '] = list(map(float, df['KG FONDO DISENO ']))\n",
    "df['AIRE FONDO DISENO '] = list(map(float, df['AIRE FONDO DISENO ']))\n",
    "df['KG COLUMNA DISENO'] = list(map(float, df['KG COLUMNA DISENO']))\n",
    "df['AIRE FONDO DISENO '] = list(map(float, df['AIRE FONDO DISENO ']))\n",
    "df['AIRE SUPERIOR DISENO'] = list(map(float, df['AIRE SUPERIOR DISENO']))\n",
    "df['TACO GRAVILLA DISENO '] = list(map(float, df['TACO GRAVILLA DISENO ']))\n",
    "df['SECUENCIA DETONACION DISENO'] = list(map(float, df['SECUENCIA DETONACION DISENO']))\n",
    "df['PROFUNDIDAD REAL'] = list(map(float, df['PROFUNDIDAD REAL']))\n",
    "df['KG FONDO REAL '] = list(map(float, df['KG FONDO REAL ']))\n",
    "df['AIRE FONDO REAL '] = list(map(float, df['AIRE FONDO REAL ']))\n",
    "df['KG COLUMNA REAL'] = list(map(float, df['KG COLUMNA REAL']))\n",
    "df['AIRE SUPERIOR REAL'] = list(map(float, df['AIRE SUPERIOR REAL']))\n",
    "df['SECUENCIA DETONACION REAL'] = list(map(float, df['SECUENCIA DETONACION REAL']))\n",
    "df['AGUA'] = list(map(float, df['AGUA']))\n",
    "print ('-> Formato numérico asegurado')"
   ]
  },
  {
   "cell_type": "code",
   "execution_count": 29,
   "metadata": {
    "ExecuteTime": {
     "end_time": "2021-04-08T20:41:54.488407Z",
     "start_time": "2021-04-08T20:41:54.483045Z"
    }
   },
   "outputs": [
    {
     "name": "stdout",
     "output_type": "stream",
     "text": [
      "Comprobando información mínima de carga:\n",
      "Existen 183 mallas válidas\n",
      "Existen 183 id_pozo válidos\n",
      "Existen 183 diámetros PGL válidos\n"
     ]
    }
   ],
   "source": [
    "print ('Comprobando información mínima de carga:')\n",
    "print ('Existen '+ str(len(df['MALLA']))+' mallas válidas')\n",
    "print ('Existen '+ str(len(df['ID POZO']))+' id_pozo válidos')\n",
    "print ('Existen '+ str(len(df['DIAMETRO PLG']))+' diámetros PGL válidos')"
   ]
  },
  {
   "cell_type": "markdown",
   "metadata": {},
   "source": [
    "## Exportación"
   ]
  },
  {
   "cell_type": "code",
   "execution_count": 30,
   "metadata": {
    "ExecuteTime": {
     "end_time": "2021-04-08T20:41:54.496827Z",
     "start_time": "2021-04-08T20:41:54.490614Z"
    }
   },
   "outputs": [],
   "source": [
    "from pathlib import Path"
   ]
  },
  {
   "cell_type": "code",
   "execution_count": 31,
   "metadata": {
    "ExecuteTime": {
     "end_time": "2021-04-08T20:41:54.506584Z",
     "start_time": "2021-04-08T20:41:54.499496Z"
    }
   },
   "outputs": [],
   "source": [
    "Path(file_name).mkdir(parents=True, exist_ok=True)"
   ]
  },
  {
   "cell_type": "code",
   "execution_count": 32,
   "metadata": {
    "ExecuteTime": {
     "end_time": "2021-04-08T20:41:54.517037Z",
     "start_time": "2021-04-08T20:41:54.508829Z"
    }
   },
   "outputs": [],
   "source": [
    "export_dir = file_name+\"/\""
   ]
  },
  {
   "cell_type": "code",
   "execution_count": 33,
   "metadata": {
    "ExecuteTime": {
     "end_time": "2021-04-08T20:41:54.532886Z",
     "start_time": "2021-04-08T20:41:54.519499Z"
    }
   },
   "outputs": [
    {
     "name": "stdout",
     "output_type": "stream",
     "text": [
      "Archivo válido exportado: Valid-31.01.21 MAF10-N-3245-03-60-A\n"
     ]
    }
   ],
   "source": [
    "export_name = 'Valid-' + file_name\n",
    "df.to_csv(export_dir+export_name + \".csv\", index=False)\n",
    "print ('Archivo válido exportado: ' + export_name)"
   ]
  },
  {
   "cell_type": "code",
   "execution_count": 34,
   "metadata": {
    "ExecuteTime": {
     "end_time": "2021-04-08T20:41:54.549652Z",
     "start_time": "2021-04-08T20:41:54.535056Z"
    }
   },
   "outputs": [
    {
     "name": "stdout",
     "output_type": "stream",
     "text": [
      "Archivo NO válido exportado: Invalid-31.01.21 MAF10-N-3245-03-60-A\n"
     ]
    }
   ],
   "source": [
    "not_ready_name = \"Invalid-\" + file_name\n",
    "df_not_ready.to_csv(export_dir+not_ready_name + \".csv\", index=False)\n",
    "print ('Archivo NO válido exportado: ' + not_ready_name)"
   ]
  },
  {
   "cell_type": "code",
   "execution_count": 35,
   "metadata": {
    "ExecuteTime": {
     "end_time": "2021-04-08T20:41:54.556746Z",
     "start_time": "2021-04-08T20:41:54.551733Z"
    }
   },
   "outputs": [],
   "source": [
    "sys.stdout.close()"
   ]
  },
  {
   "cell_type": "code",
   "execution_count": 36,
   "metadata": {
    "ExecuteTime": {
     "end_time": "2021-04-08T20:41:54.566365Z",
     "start_time": "2021-04-08T20:41:54.558850Z"
    }
   },
   "outputs": [],
   "source": [
    "# !jupyter nbconvert --to script script.ipynb"
   ]
  },
  {
   "cell_type": "code",
   "execution_count": null,
   "metadata": {},
   "outputs": [],
   "source": []
  }
 ],
 "metadata": {
  "kernelspec": {
   "display_name": "Python 3",
   "language": "python",
   "name": "python3"
  },
  "language_info": {
   "codemirror_mode": {
    "name": "ipython",
    "version": 3
   },
   "file_extension": ".py",
   "mimetype": "text/x-python",
   "name": "python",
   "nbconvert_exporter": "python",
   "pygments_lexer": "ipython3",
   "version": "3.8.5"
  },
  "toc": {
   "base_numbering": 1,
   "nav_menu": {},
   "number_sections": false,
   "sideBar": true,
   "skip_h1_title": false,
   "title_cell": "Table of Contents",
   "title_sidebar": "Contents",
   "toc_cell": false,
   "toc_position": {},
   "toc_section_display": true,
   "toc_window_display": false
  }
 },
 "nbformat": 4,
 "nbformat_minor": 4
}
