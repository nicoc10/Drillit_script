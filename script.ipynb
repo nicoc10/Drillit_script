{
 "cells": [
  {
   "cell_type": "code",
   "execution_count": 157,
   "metadata": {
    "ExecuteTime": {
     "end_time": "2021-04-07T03:44:42.615777Z",
     "start_time": "2021-04-07T03:44:42.613086Z"
    }
   },
   "outputs": [],
   "source": [
    "import pandas as pd\n",
    "import numpy as np\n",
    "import re\n",
    "import os\n",
    "import sys\n",
    "import time"
   ]
  },
  {
   "cell_type": "code",
   "execution_count": 158,
   "metadata": {
    "ExecuteTime": {
     "end_time": "2021-04-07T03:44:42.654560Z",
     "start_time": "2021-04-07T03:44:42.621430Z"
    }
   },
   "outputs": [],
   "source": [
    "print('Abriendo carpeta: '+ os.getcwd()+' ...')"
   ]
  },
  {
   "cell_type": "code",
   "execution_count": 159,
   "metadata": {
    "ExecuteTime": {
     "end_time": "2021-04-07T03:44:42.679937Z",
     "start_time": "2021-04-07T03:44:42.656609Z"
    }
   },
   "outputs": [],
   "source": [
    "timestr = time.strftime(\"%Y%m%d\")\n",
    "timestr = timestr + \".txt\"\n",
    "sys.stdout=open(timestr,\"w\")"
   ]
  },
  {
   "cell_type": "code",
   "execution_count": 160,
   "metadata": {
    "ExecuteTime": {
     "end_time": "2021-04-07T03:44:42.723534Z",
     "start_time": "2021-04-07T03:44:42.682714Z"
    }
   },
   "outputs": [],
   "source": [
    "def alerta(list):\n",
    "    #Si no hay ningun falso -> mensaje positivo\n",
    "    if all(list): print (mensaje_pos)\n",
    "    else: print (mensaje_neg)"
   ]
  },
  {
   "cell_type": "code",
   "execution_count": 161,
   "metadata": {
    "ExecuteTime": {
     "end_time": "2021-04-07T03:44:42.752570Z",
     "start_time": "2021-04-07T03:44:42.725505Z"
    },
    "code_folding": []
   },
   "outputs": [],
   "source": [
    "#with open('default_cols.txt', 'w') as f:\n",
    "#    for col in list(data.columns.values):\n",
    "#        f.write(\"%s\\n\" % col)"
   ]
  },
  {
   "cell_type": "markdown",
   "metadata": {},
   "source": [
    "Cargar archivo a comprobar:"
   ]
  },
  {
   "cell_type": "code",
   "execution_count": 162,
   "metadata": {
    "ExecuteTime": {
     "end_time": "2021-04-07T03:44:42.781027Z",
     "start_time": "2021-04-07T03:44:42.754332Z"
    }
   },
   "outputs": [],
   "source": [
    "file_name = 'MAFXX-banco-malla.csv'\n",
    "print('Cargando el archivo '+file_name+'...')\n",
    "data = pd.read_csv(file_name)"
   ]
  },
  {
   "cell_type": "code",
   "execution_count": 163,
   "metadata": {
    "ExecuteTime": {
     "end_time": "2021-04-07T03:44:42.812637Z",
     "start_time": "2021-04-07T03:44:42.782794Z"
    }
   },
   "outputs": [],
   "source": [
    "#Comprobar nombre del archivo\n",
    "print(\"Comprobando nombre del archivo:\")\n",
    "print(\"-> Por definir ...\")"
   ]
  },
  {
   "cell_type": "markdown",
   "metadata": {},
   "source": [
    "Cargar listas de columnas:"
   ]
  },
  {
   "cell_type": "code",
   "execution_count": 164,
   "metadata": {
    "ExecuteTime": {
     "end_time": "2021-04-07T03:44:42.836615Z",
     "start_time": "2021-04-07T03:44:42.814376Z"
    }
   },
   "outputs": [],
   "source": [
    "#Listado de columnas totales por defecto:\n",
    "with open('default_cols.txt', 'r') as f:\n",
    "    default_cols = [str(line.strip()) for line in f]\n",
    "    \n",
    "#Listado de columnas obligatorias y necesarias:    \n",
    "with open('required_cols.txt', 'r') as f:\n",
    "    required_cols = [str(line.strip()) for line in f]"
   ]
  },
  {
   "cell_type": "markdown",
   "metadata": {
    "ExecuteTime": {
     "end_time": "2021-04-07T03:27:51.298113Z",
     "start_time": "2021-04-07T03:27:51.293823Z"
    }
   },
   "source": [
    "Comprobar si el archivo contiene columnas necesarias:"
   ]
  },
  {
   "cell_type": "code",
   "execution_count": 165,
   "metadata": {
    "ExecuteTime": {
     "end_time": "2021-04-07T03:44:42.859800Z",
     "start_time": "2021-04-07T03:44:42.839449Z"
    }
   },
   "outputs": [],
   "source": [
    "if set(required_cols) <= set(default_cols):\n",
    "    print (\"El archivo SI contiene las columnas necesarias\")\n",
    "else: \n",
    "    print (\"El archivo NO contiene las columnas necesarias\")"
   ]
  },
  {
   "cell_type": "markdown",
   "metadata": {},
   "source": [
    "Comprobar si el archivo contiene el número total de columnas que podría tener:"
   ]
  },
  {
   "cell_type": "code",
   "execution_count": 166,
   "metadata": {
    "ExecuteTime": {
     "end_time": "2021-04-07T03:44:42.884662Z",
     "start_time": "2021-04-07T03:44:42.862317Z"
    }
   },
   "outputs": [],
   "source": [
    "#Columnas\n",
    "print(\"Comprobando columnas:\")\n",
    "check = []\n",
    "mensaje_neg = \"-> ERROR!, El archivo NO contiene el número total de columnas que podría tener\"\n",
    "mensaje_pos = \"-> BIEN!, El archivo SI contiene el número total de columnas que podría tener\"\n",
    "\n",
    "#Comprueba si esas columnas son iguales:\n",
    "for n in range(0,len(required_cols)):\n",
    "    c = default_cols[n].split() == file_cols[n].split()\n",
    "    check.append(c)\n",
    "#Ejecutar alerta si es necesario\n",
    "alerta(check)"
   ]
  },
  {
   "cell_type": "code",
   "execution_count": null,
   "metadata": {},
   "outputs": [],
   "source": []
  },
  {
   "cell_type": "code",
   "execution_count": 167,
   "metadata": {
    "ExecuteTime": {
     "end_time": "2021-04-07T03:44:42.911288Z",
     "start_time": "2021-04-07T03:44:42.886353Z"
    }
   },
   "outputs": [],
   "source": [
    "print(\"Comprobando si el nombre de las mallas contiene prefijo válido:\")\n",
    "#Comprobar que el prefijo sea el correcto:\n",
    "check = []\n",
    "mensaje_neg = \"-> ERROR!, El nombre de las mallas NO cumple el formato de prefijos\"\n",
    "mensaje_pos = \"-> BIEN!, El nombre de las mallas SI cumple el formato de prefijos\"\n",
    "\n",
    "#lista de prefijos:\n",
    "prefix_mallas = ['MAF07-R1', 'MAF09-SE', 'MAF10-N', 'MAF11-W']\n",
    "\n",
    "for m in range(0, len(data['MALLA'])):\n",
    "    malla_contiene_prefijo = any(prefix_mallas in data['MALLA'][0] for prefix_mallas in prefix_mallas)\n",
    "    check.append(malla_contiene_prefijo)\n",
    "alerta(check)"
   ]
  },
  {
   "cell_type": "code",
   "execution_count": 168,
   "metadata": {
    "ExecuteTime": {
     "end_time": "2021-04-07T03:44:42.957720Z",
     "start_time": "2021-04-07T03:44:42.913462Z"
    }
   },
   "outputs": [],
   "source": [
    "print('Revisando si existen mallas con sufijo \"_vm\":')\n",
    "suffix = '_vm'\n",
    "suffix_count = sum(1 for s in data['MALLA'] if s.endswith(suffix))\n",
    "print ('-> Se han econtrado '+ str(suffix_count)+' mallas con sufijo \"_vm\"')"
   ]
  },
  {
   "cell_type": "code",
   "execution_count": 169,
   "metadata": {
    "ExecuteTime": {
     "end_time": "2021-04-07T03:44:42.989943Z",
     "start_time": "2021-04-07T03:44:42.959748Z"
    }
   },
   "outputs": [],
   "source": [
    "#Identificador de Pozo en la malla de perforacion\n",
    "print('Revisando identificador de pozo en la malla de perforación:')\n",
    "id_pozo = pd.to_numeric(data['ID POZO'], errors='coerce')\n",
    "print ('-> Existen '+ str(id_pozo.isna().sum()) + ' pozos que no podrán ser importador por ser AUX o vacio')"
   ]
  },
  {
   "cell_type": "code",
   "execution_count": 170,
   "metadata": {
    "ExecuteTime": {
     "end_time": "2021-04-07T03:44:43.035808Z",
     "start_time": "2021-04-07T03:44:42.991494Z"
    }
   },
   "outputs": [],
   "source": [
    "print('Asegurando exactitud valores numericos:')\n",
    "data['DIAMETRO PLG'] = np.around(list(map(float, data['DIAMETRO PLG'])),5)\n",
    "data['GRAVILLA INTERMEDIO DISENO '] = np.around(list(map(float, data['GRAVILLA INTERMEDIO DISENO '])),5)\n",
    "data['AIRE INTERMEDIO REAL '] = np.around(list(map(float, data['AIRE INTERMEDIO REAL '])),5)\n",
    "data['TACO GRAVILLA REAL '] = np.around(list(map(float, data['TACO GRAVILLA REAL '])),5)\n",
    "print( '... falta guardar archivo como .csv ...')\n",
    "# data['DIAMETRO PLG']"
   ]
  },
  {
   "cell_type": "code",
   "execution_count": 171,
   "metadata": {
    "ExecuteTime": {
     "end_time": "2021-04-07T03:44:43.076590Z",
     "start_time": "2021-04-07T03:44:43.037866Z"
    }
   },
   "outputs": [
    {
     "ename": "KeyError",
     "evalue": "'CARGA FONDO DISENOlo '",
     "output_type": "error",
     "traceback": [
      "\u001b[0;31m---------------------------------------------------------------------------\u001b[0m",
      "\u001b[0;31mKeyError\u001b[0m                                  Traceback (most recent call last)",
      "\u001b[0;32m/opt/conda/lib/python3.8/site-packages/pandas/core/indexes/base.py\u001b[0m in \u001b[0;36mget_loc\u001b[0;34m(self, key, method, tolerance)\u001b[0m\n\u001b[1;32m   2894\u001b[0m             \u001b[0;32mtry\u001b[0m\u001b[0;34m:\u001b[0m\u001b[0;34m\u001b[0m\u001b[0;34m\u001b[0m\u001b[0m\n\u001b[0;32m-> 2895\u001b[0;31m                 \u001b[0;32mreturn\u001b[0m \u001b[0mself\u001b[0m\u001b[0;34m.\u001b[0m\u001b[0m_engine\u001b[0m\u001b[0;34m.\u001b[0m\u001b[0mget_loc\u001b[0m\u001b[0;34m(\u001b[0m\u001b[0mcasted_key\u001b[0m\u001b[0;34m)\u001b[0m\u001b[0;34m\u001b[0m\u001b[0;34m\u001b[0m\u001b[0m\n\u001b[0m\u001b[1;32m   2896\u001b[0m             \u001b[0;32mexcept\u001b[0m \u001b[0mKeyError\u001b[0m \u001b[0;32mas\u001b[0m \u001b[0merr\u001b[0m\u001b[0;34m:\u001b[0m\u001b[0;34m\u001b[0m\u001b[0;34m\u001b[0m\u001b[0m\n",
      "\u001b[0;32mpandas/_libs/index.pyx\u001b[0m in \u001b[0;36mpandas._libs.index.IndexEngine.get_loc\u001b[0;34m()\u001b[0m\n",
      "\u001b[0;32mpandas/_libs/index.pyx\u001b[0m in \u001b[0;36mpandas._libs.index.IndexEngine.get_loc\u001b[0;34m()\u001b[0m\n",
      "\u001b[0;32mpandas/_libs/hashtable_class_helper.pxi\u001b[0m in \u001b[0;36mpandas._libs.hashtable.PyObjectHashTable.get_item\u001b[0;34m()\u001b[0m\n",
      "\u001b[0;32mpandas/_libs/hashtable_class_helper.pxi\u001b[0m in \u001b[0;36mpandas._libs.hashtable.PyObjectHashTable.get_item\u001b[0;34m()\u001b[0m\n",
      "\u001b[0;31mKeyError\u001b[0m: 'CARGA FONDO DISENOlo '",
      "\nThe above exception was the direct cause of the following exception:\n",
      "\u001b[0;31mKeyError\u001b[0m                                  Traceback (most recent call last)",
      "\u001b[0;32m<ipython-input-171-19917519e7ef>\u001b[0m in \u001b[0;36m<module>\u001b[0;34m\u001b[0m\n\u001b[1;32m      2\u001b[0m \u001b[0mprint\u001b[0m \u001b[0;34m(\u001b[0m\u001b[0;34m'1. Asegurando columnas formato texto:'\u001b[0m\u001b[0;34m)\u001b[0m\u001b[0;34m\u001b[0m\u001b[0;34m\u001b[0m\u001b[0m\n\u001b[1;32m      3\u001b[0m \u001b[0mdata\u001b[0m\u001b[0;34m[\u001b[0m\u001b[0;34m'MALLA'\u001b[0m\u001b[0;34m]\u001b[0m \u001b[0;34m=\u001b[0m \u001b[0mlist\u001b[0m\u001b[0;34m(\u001b[0m\u001b[0mmap\u001b[0m\u001b[0;34m(\u001b[0m\u001b[0mstr\u001b[0m\u001b[0;34m,\u001b[0m \u001b[0mdata\u001b[0m\u001b[0;34m[\u001b[0m\u001b[0;34m'MALLA'\u001b[0m\u001b[0;34m]\u001b[0m\u001b[0;34m)\u001b[0m\u001b[0;34m)\u001b[0m\u001b[0;34m\u001b[0m\u001b[0;34m\u001b[0m\u001b[0m\n\u001b[0;32m----> 4\u001b[0;31m \u001b[0mdata\u001b[0m\u001b[0;34m[\u001b[0m\u001b[0;34m'CARGA FONDO DISENOlo '\u001b[0m\u001b[0;34m]\u001b[0m \u001b[0;34m=\u001b[0m \u001b[0mlist\u001b[0m\u001b[0;34m(\u001b[0m\u001b[0mmap\u001b[0m\u001b[0;34m(\u001b[0m\u001b[0mstr\u001b[0m\u001b[0;34m,\u001b[0m \u001b[0mdata\u001b[0m\u001b[0;34m[\u001b[0m\u001b[0;34m'CARGA FONDO DISENOlo '\u001b[0m\u001b[0;34m]\u001b[0m\u001b[0;34m)\u001b[0m\u001b[0;34m)\u001b[0m\u001b[0;34m\u001b[0m\u001b[0;34m\u001b[0m\u001b[0m\n\u001b[0m\u001b[1;32m      5\u001b[0m \u001b[0mdata\u001b[0m\u001b[0;34m[\u001b[0m\u001b[0;34m'CARGA COLUMNA  DISENO'\u001b[0m\u001b[0;34m]\u001b[0m \u001b[0;34m=\u001b[0m \u001b[0mlist\u001b[0m\u001b[0;34m(\u001b[0m\u001b[0mmap\u001b[0m\u001b[0;34m(\u001b[0m\u001b[0mstr\u001b[0m\u001b[0;34m,\u001b[0m \u001b[0mdata\u001b[0m\u001b[0;34m[\u001b[0m\u001b[0;34m'CARGA COLUMNA  DISENO'\u001b[0m\u001b[0;34m]\u001b[0m\u001b[0;34m)\u001b[0m\u001b[0;34m)\u001b[0m\u001b[0;34m\u001b[0m\u001b[0;34m\u001b[0m\u001b[0m\n\u001b[1;32m      6\u001b[0m \u001b[0mdata\u001b[0m\u001b[0;34m[\u001b[0m\u001b[0;34m'CARGA FONDO REAL '\u001b[0m\u001b[0;34m]\u001b[0m \u001b[0;34m=\u001b[0m \u001b[0mlist\u001b[0m\u001b[0;34m(\u001b[0m\u001b[0mmap\u001b[0m\u001b[0;34m(\u001b[0m\u001b[0mstr\u001b[0m\u001b[0;34m,\u001b[0m \u001b[0mdata\u001b[0m\u001b[0;34m[\u001b[0m\u001b[0;34m'CARGA FONDO REAL '\u001b[0m\u001b[0;34m]\u001b[0m\u001b[0;34m)\u001b[0m\u001b[0;34m)\u001b[0m\u001b[0;34m\u001b[0m\u001b[0;34m\u001b[0m\u001b[0m\n",
      "\u001b[0;32m/opt/conda/lib/python3.8/site-packages/pandas/core/frame.py\u001b[0m in \u001b[0;36m__getitem__\u001b[0;34m(self, key)\u001b[0m\n\u001b[1;32m   2904\u001b[0m             \u001b[0;32mif\u001b[0m \u001b[0mself\u001b[0m\u001b[0;34m.\u001b[0m\u001b[0mcolumns\u001b[0m\u001b[0;34m.\u001b[0m\u001b[0mnlevels\u001b[0m \u001b[0;34m>\u001b[0m \u001b[0;36m1\u001b[0m\u001b[0;34m:\u001b[0m\u001b[0;34m\u001b[0m\u001b[0;34m\u001b[0m\u001b[0m\n\u001b[1;32m   2905\u001b[0m                 \u001b[0;32mreturn\u001b[0m \u001b[0mself\u001b[0m\u001b[0;34m.\u001b[0m\u001b[0m_getitem_multilevel\u001b[0m\u001b[0;34m(\u001b[0m\u001b[0mkey\u001b[0m\u001b[0;34m)\u001b[0m\u001b[0;34m\u001b[0m\u001b[0;34m\u001b[0m\u001b[0m\n\u001b[0;32m-> 2906\u001b[0;31m             \u001b[0mindexer\u001b[0m \u001b[0;34m=\u001b[0m \u001b[0mself\u001b[0m\u001b[0;34m.\u001b[0m\u001b[0mcolumns\u001b[0m\u001b[0;34m.\u001b[0m\u001b[0mget_loc\u001b[0m\u001b[0;34m(\u001b[0m\u001b[0mkey\u001b[0m\u001b[0;34m)\u001b[0m\u001b[0;34m\u001b[0m\u001b[0;34m\u001b[0m\u001b[0m\n\u001b[0m\u001b[1;32m   2907\u001b[0m             \u001b[0;32mif\u001b[0m \u001b[0mis_integer\u001b[0m\u001b[0;34m(\u001b[0m\u001b[0mindexer\u001b[0m\u001b[0;34m)\u001b[0m\u001b[0;34m:\u001b[0m\u001b[0;34m\u001b[0m\u001b[0;34m\u001b[0m\u001b[0m\n\u001b[1;32m   2908\u001b[0m                 \u001b[0mindexer\u001b[0m \u001b[0;34m=\u001b[0m \u001b[0;34m[\u001b[0m\u001b[0mindexer\u001b[0m\u001b[0;34m]\u001b[0m\u001b[0;34m\u001b[0m\u001b[0;34m\u001b[0m\u001b[0m\n",
      "\u001b[0;32m/opt/conda/lib/python3.8/site-packages/pandas/core/indexes/base.py\u001b[0m in \u001b[0;36mget_loc\u001b[0;34m(self, key, method, tolerance)\u001b[0m\n\u001b[1;32m   2895\u001b[0m                 \u001b[0;32mreturn\u001b[0m \u001b[0mself\u001b[0m\u001b[0;34m.\u001b[0m\u001b[0m_engine\u001b[0m\u001b[0;34m.\u001b[0m\u001b[0mget_loc\u001b[0m\u001b[0;34m(\u001b[0m\u001b[0mcasted_key\u001b[0m\u001b[0;34m)\u001b[0m\u001b[0;34m\u001b[0m\u001b[0;34m\u001b[0m\u001b[0m\n\u001b[1;32m   2896\u001b[0m             \u001b[0;32mexcept\u001b[0m \u001b[0mKeyError\u001b[0m \u001b[0;32mas\u001b[0m \u001b[0merr\u001b[0m\u001b[0;34m:\u001b[0m\u001b[0;34m\u001b[0m\u001b[0;34m\u001b[0m\u001b[0m\n\u001b[0;32m-> 2897\u001b[0;31m                 \u001b[0;32mraise\u001b[0m \u001b[0mKeyError\u001b[0m\u001b[0;34m(\u001b[0m\u001b[0mkey\u001b[0m\u001b[0;34m)\u001b[0m \u001b[0;32mfrom\u001b[0m \u001b[0merr\u001b[0m\u001b[0;34m\u001b[0m\u001b[0;34m\u001b[0m\u001b[0m\n\u001b[0m\u001b[1;32m   2898\u001b[0m \u001b[0;34m\u001b[0m\u001b[0m\n\u001b[1;32m   2899\u001b[0m         \u001b[0;32mif\u001b[0m \u001b[0mtolerance\u001b[0m \u001b[0;32mis\u001b[0m \u001b[0;32mnot\u001b[0m \u001b[0;32mNone\u001b[0m\u001b[0;34m:\u001b[0m\u001b[0;34m\u001b[0m\u001b[0;34m\u001b[0m\u001b[0m\n",
      "\u001b[0;31mKeyError\u001b[0m: 'CARGA FONDO DISENOlo '"
     ]
    }
   ],
   "source": [
    "print ('Asegurando formato de valores ...')\n",
    "print ('1. Asegurando columnas formato texto:')\n",
    "data['MALLA'] = list(map(str, data['MALLA']))\n",
    "data['CARGA FONDO DISENOlo '] = list(map(str, data['CARGA FONDO DISENOlo ']))\n",
    "data['CARGA COLUMNA  DISENO'] = list(map(str, data['CARGA COLUMNA  DISENO']))\n",
    "data['CARGA FONDO REAL '] = list(map(str, data['CARGA FONDO REAL ']))\n",
    "data['CARGA COLUMNA REAL'] = list(map(str, data['CARGA COLUMNA REAL']))\n",
    "print ('-> Formato texto asegurado')\n",
    "print ('2. Asegurando columnas formato numero:')\n",
    "# data['ID POZO'] = list(map(float, data['ID POZO']))\n",
    "# data['DIAMETRO PLG'] = list(map(float, data['DIAMETRO PLG']))\n",
    "data['KG FONDO DISENO '] = list(map(float, data['KG FONDO DISENO ']))\n",
    "data['AIRE FONDO DISENO '] = list(map(float, data['AIRE FONDO DISENO ']))\n",
    "data['KG COLUMNA DISENO'] = list(map(float, data['KG COLUMNA DISENO']))\n",
    "data['AIRE FONDO DISENO '] = list(map(float, data['AIRE FONDO DISENO ']))\n",
    "data['AIRE SUPERIOR DISENO'] = list(map(float, data['AIRE SUPERIOR DISENO']))\n",
    "data['TACO GRAVILLA DISENO '] = list(map(float, data['TACO GRAVILLA DISENO ']))\n",
    "data['SECUENCIA DETONACION DISENO'] = list(map(float, data['SECUENCIA DETONACION DISENO']))\n",
    "data['PROFUNDIDAD REAL'] = list(map(float, data['PROFUNDIDAD REAL']))\n",
    "data['KG FONDO REAL '] = list(map(float, data['KG FONDO REAL ']))\n",
    "data['AIRE FONDO REAL '] = list(map(float, data['AIRE FONDO REAL ']))\n",
    "data['KG COLUMNA REAL'] = list(map(float, data['KG COLUMNA REAL']))\n",
    "data['AIRE SUPERIOR REAL'] = list(map(float, data['AIRE SUPERIOR REAL']))\n",
    "data['SECUENCIA DETONACION REAL'] = list(map(float, data['SECUENCIA DETONACION REAL']))\n",
    "data['AGUA'] = list(map(float, data['AGUA']))\n",
    "print ('-> Formato numérico asegurado')"
   ]
  },
  {
   "cell_type": "code",
   "execution_count": 172,
   "metadata": {
    "ExecuteTime": {
     "end_time": "2021-04-07T03:45:20.177854Z",
     "start_time": "2021-04-07T03:45:20.174032Z"
    }
   },
   "outputs": [],
   "source": [
    "print ('Comprobando información mínima de carga:')\n",
    "print ('Existen '+ str(len(data['MALLA']))+' mallas válidas')\n",
    "print ('Existen '+ str(len(data['ID POZO']))+' id_pozo válidos')\n",
    "print ('Existen '+ str(len(data['DIAMETRO PLG']))+' diámetros PGL válidos')"
   ]
  },
  {
   "cell_type": "code",
   "execution_count": null,
   "metadata": {
    "ExecuteTime": {
     "end_time": "2021-04-07T03:44:43.081399Z",
     "start_time": "2021-04-07T03:44:41.755Z"
    }
   },
   "outputs": [],
   "source": [
    "list(data.columns.values)"
   ]
  },
  {
   "cell_type": "code",
   "execution_count": null,
   "metadata": {
    "ExecuteTime": {
     "end_time": "2021-04-07T03:44:43.083014Z",
     "start_time": "2021-04-07T03:44:41.757Z"
    }
   },
   "outputs": [],
   "source": [
    "#Nombre archivo\n",
    "#Comprobar digitos de la MALLA\n",
    "#Comprobar explosivo diseño y real"
   ]
  },
  {
   "cell_type": "code",
   "execution_count": 173,
   "metadata": {
    "ExecuteTime": {
     "end_time": "2021-04-07T03:45:39.586778Z",
     "start_time": "2021-04-07T03:45:39.583852Z"
    }
   },
   "outputs": [],
   "source": [
    "print (\"algo diferente\")"
   ]
  },
  {
   "cell_type": "code",
   "execution_count": null,
   "metadata": {
    "ExecuteTime": {
     "end_time": "2021-04-07T03:44:43.085542Z",
     "start_time": "2021-04-07T03:44:41.759Z"
    }
   },
   "outputs": [],
   "source": [
    "sys.stdout.close()"
   ]
  },
  {
   "cell_type": "code",
   "execution_count": null,
   "metadata": {},
   "outputs": [],
   "source": []
  }
 ],
 "metadata": {
  "kernelspec": {
   "display_name": "Python 3",
   "language": "python",
   "name": "python3"
  },
  "language_info": {
   "codemirror_mode": {
    "name": "ipython",
    "version": 3
   },
   "file_extension": ".py",
   "mimetype": "text/x-python",
   "name": "python",
   "nbconvert_exporter": "python",
   "pygments_lexer": "ipython3",
   "version": "3.8.5"
  },
  "toc": {
   "base_numbering": 1,
   "nav_menu": {},
   "number_sections": false,
   "sideBar": true,
   "skip_h1_title": false,
   "title_cell": "Table of Contents",
   "title_sidebar": "Contents",
   "toc_cell": false,
   "toc_position": {},
   "toc_section_display": true,
   "toc_window_display": false
  }
 },
 "nbformat": 4,
 "nbformat_minor": 4
}
