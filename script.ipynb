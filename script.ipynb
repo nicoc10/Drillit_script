{
 "cells": [
  {
   "cell_type": "markdown",
   "metadata": {
    "heading_collapsed": true
   },
   "source": [
    "## Requerimientos"
   ]
  },
  {
   "cell_type": "code",
   "execution_count": 1,
   "metadata": {
    "ExecuteTime": {
     "end_time": "2021-04-08T18:20:18.331886Z",
     "start_time": "2021-04-08T18:20:18.159340Z"
    },
    "hidden": true
   },
   "outputs": [],
   "source": [
    "import pandas as pd\n",
    "import numpy as np\n",
    "import re\n",
    "import os\n",
    "import sys\n",
    "import time\n",
    "import os\n",
    "import glob"
   ]
  },
  {
   "cell_type": "markdown",
   "metadata": {
    "heading_collapsed": true
   },
   "source": [
    "## Archivo y directorio"
   ]
  },
  {
   "cell_type": "code",
   "execution_count": 2,
   "metadata": {
    "ExecuteTime": {
     "end_time": "2021-04-08T18:20:18.338604Z",
     "start_time": "2021-04-08T18:20:18.333951Z"
    },
    "hidden": true
   },
   "outputs": [
    {
     "name": "stdout",
     "output_type": "stream",
     "text": [
      "Abriendo carpeta: /workspace/Drillit_script ...\n"
     ]
    }
   ],
   "source": [
    "print('Abriendo carpeta: '+ os.getcwd()+' ...')"
   ]
  },
  {
   "cell_type": "code",
   "execution_count": 3,
   "metadata": {
    "ExecuteTime": {
     "end_time": "2021-04-08T18:20:18.362125Z",
     "start_time": "2021-04-08T18:20:18.342219Z"
    },
    "hidden": true
   },
   "outputs": [],
   "source": [
    "timestr = time.strftime(\"%Y%m%d\")\n",
    "timestr = timestr \n",
    "# sys.stdout=open(timestr + \".txt\",\"w\")"
   ]
  },
  {
   "cell_type": "code",
   "execution_count": 4,
   "metadata": {
    "ExecuteTime": {
     "end_time": "2021-04-08T18:20:18.383689Z",
     "start_time": "2021-04-08T18:20:18.364303Z"
    },
    "hidden": true
   },
   "outputs": [],
   "source": [
    "def alerta(list):\n",
    "    #Si no hay ningun falso -> mensaje positivo\n",
    "    if all(list): print (mensaje_pos)\n",
    "    else: print (mensaje_neg)"
   ]
  },
  {
   "cell_type": "code",
   "execution_count": 5,
   "metadata": {
    "ExecuteTime": {
     "end_time": "2021-04-08T18:20:18.406158Z",
     "start_time": "2021-04-08T18:20:18.386085Z"
    },
    "code_folding": [],
    "hidden": true
   },
   "outputs": [],
   "source": [
    "#with open('default_cols.txt', 'w') as f:\n",
    "#    for col in list(data.columns.values):\n",
    "#        f.write(\"%s\\n\" % col)"
   ]
  },
  {
   "cell_type": "markdown",
   "metadata": {
    "hidden": true
   },
   "source": [
    "Cargar archivo a comprobar:"
   ]
  },
  {
   "cell_type": "code",
   "execution_count": 6,
   "metadata": {
    "ExecuteTime": {
     "end_time": "2021-04-08T18:20:18.428948Z",
     "start_time": "2021-04-08T18:20:18.408609Z"
    },
    "hidden": true
   },
   "outputs": [
    {
     "name": "stdout",
     "output_type": "stream",
     "text": [
      "['Valid-02.01.21 MAF7-R1-2750-03-05-B.csv', 'NoParaCargar20210408.csv', '20210407.csv', 'Invalid-02.01.21 MAF7-R1-2750-03-05-B.csv', 'Valid-02.01.21 MAF7-R1-2750-03-05-B.csv.csv', 'MAFXX-banco-malla_error.csv', '20210407.txt.csv', 'Valid02.01.21 MAF7-R1-2750-03-05-B.csv.csv', 'MAFXX-banco-malla.csv', '01.01.21 MAF9-SE-3320-01-02-A.csv', 'Invalid-02.01.21 MAF7-R1-2750-03-05-B.csv.csv', 'Valid20210408.csv', 'columna.csv', 'Invalid20210408.csv', '20210408.csv']\n"
     ]
    }
   ],
   "source": [
    "path = '/workspace/Drillit_script'\n",
    "extension = 'csv'\n",
    "os.chdir(path)\n",
    "result = glob.glob('*.{}'.format(extension))\n",
    "print(result)"
   ]
  },
  {
   "cell_type": "code",
   "execution_count": 41,
   "metadata": {
    "ExecuteTime": {
     "end_time": "2021-04-08T18:23:14.990208Z",
     "start_time": "2021-04-08T18:23:14.980199Z"
    },
    "hidden": true
   },
   "outputs": [
    {
     "name": "stdout",
     "output_type": "stream",
     "text": [
      "Cargando el archivo Raw_data/02.01.21 MAF7-R1-2750-03-05-B.csv...\n"
     ]
    }
   ],
   "source": [
    "folder = 'Raw_data/'\n",
    "file_name = '02.01.21 MAF7-R1-2750-03-05-B'\n",
    "extension = '.csv'\n",
    "final_name = folder+file_name+extension\n",
    "print('Cargando el archivo '+final_name+'...')\n",
    "data = pd.read_csv(folder+file_name+extension, header=0)\n",
    "df = data.copy()"
   ]
  },
  {
   "cell_type": "markdown",
   "metadata": {
    "heading_collapsed": true
   },
   "source": [
    "## Pre-procesamiento de columnas"
   ]
  },
  {
   "cell_type": "code",
   "execution_count": 8,
   "metadata": {
    "ExecuteTime": {
     "end_time": "2021-04-08T18:20:18.476738Z",
     "start_time": "2021-04-08T18:20:18.459812Z"
    },
    "hidden": true
   },
   "outputs": [],
   "source": [
    "#Listado de columnas totales por defecto:\n",
    "with open('default_cols.txt', 'r') as f:\n",
    "    default_cols = [str(line.strip()) for line in f]\n",
    "    \n",
    "#Listado de columnas obligatorias y necesarias:    \n",
    "with open('required_cols.txt', 'r') as f:\n",
    "    required_cols = [str(line.strip()) for line in f]\n",
    "    \n",
    "default_cols[3] = default_cols[3].replace('CARGA FONDO DISENO', 'CARGA FONDO DISENO ')\n",
    "default_cols[4] = default_cols[4].replace('KG FONDO DISENO', 'KG FONDO DISENO ')\n",
    "default_cols[5] = default_cols[5].replace('AIRE FONDO DISENO', 'AIRE FONDO DISENO ')\n",
    "default_cols[8] = default_cols[8].replace('AIRE INTERMEDIO DISENO', 'AIRE INTERMEDIO DISENO ')\n",
    "default_cols[9] = default_cols[9].replace('GRAVILLA INTERMEDIO DISENO', 'GRAVILLA INTERMEDIO DISENO ')\n",
    "default_cols[11] = default_cols[11].replace('TACO GRAVILLA DISENO', 'TACO GRAVILLA DISENO ')\n",
    "default_cols[14] = default_cols[14].replace('CARGA FONDO REAL', 'CARGA FONDO REAL ')\n",
    "default_cols[15] = default_cols[15].replace('KG FONDO REAL', 'KG FONDO REAL ')\n",
    "default_cols[16] = default_cols[16].replace('AIRE FONDO REAL', 'AIRE FONDO REAL ')\n",
    "default_cols[19] = default_cols[19].replace('AIRE INTERMEDIO REAL', 'AIRE INTERMEDIO REAL ')\n",
    "default_cols[20] = default_cols[20].replace('GRAVILLA INTERMEDIO REAL', 'GRAVILLA INTERMEDIO REAL ')\n",
    "default_cols[22] = default_cols[22].replace('TACO GRAVILLA REAL', 'TACO GRAVILLA REAL ')"
   ]
  },
  {
   "cell_type": "markdown",
   "metadata": {
    "heading_collapsed": true
   },
   "source": [
    "## Tratamiento de explosivos"
   ]
  },
  {
   "cell_type": "markdown",
   "metadata": {
    "heading_collapsed": true,
    "hidden": true
   },
   "source": [
    "### Pre procesamiento explosivos"
   ]
  },
  {
   "cell_type": "code",
   "execution_count": 9,
   "metadata": {
    "ExecuteTime": {
     "end_time": "2021-04-08T18:20:18.509593Z",
     "start_time": "2021-04-08T18:20:18.479920Z"
    },
    "code_folding": [],
    "hidden": true
   },
   "outputs": [
    {
     "name": "stdout",
     "output_type": "stream",
     "text": [
      "El archivo SI contiene las columnas necesarias\n",
      "De las columnas obligatorias, el archivo: \n",
      "Contiene: MALLA ID POZO DIAMETRO PLG\n",
      "Contiene: CARGA FONDO DISENO  KG FONDO DISENO CARGA FONDO REAL  KG FONDO REAL \n",
      "Contiene: CARGA COLUMNA  DISENO KG COLUMNA DISENOCARGA COLUMNA REAL KG COLUMNA REAL\n"
     ]
    }
   ],
   "source": [
    "required_cols = ['MALLA', 'ID POZO', 'DIAMETRO PLG']\n",
    "#Fondo\n",
    "fondo_diseno = ['CARGA FONDO DISENO ', 'KG FONDO DISENO ']\n",
    "fondo_real = ['CARGA FONDO REAL ', 'KG FONDO REAL ']\n",
    "#Diseno\n",
    "columna_diseno = ['CARGA COLUMNA  DISENO', 'KG COLUMNA DISENO']\n",
    "columna_real = ['CARGA COLUMNA REAL', 'KG COLUMNA REAL']\n",
    "\n",
    "\n",
    "necessary_cols_in_csv = []\n",
    "\n",
    "if set(required_cols) <= set(default_cols) and (\n",
    "(set(fondo_diseno) <= set(default_cols) and set(fondo_real) <= set(default_cols)) or\n",
    "(set(columna_diseno) <= set(default_cols) and set(columna_real) <= set(default_cols))    \n",
    "): print (\"El archivo SI contiene las columnas necesarias\")\n",
    "else: \n",
    "    print (\"El archivo NO contiene las columnas necesarias\")\n",
    "\n",
    "#imprimir cols necesarias:\n",
    "print('De las columnas obligatorias, el archivo: ')\n",
    "if set(required_cols) <= set(default_cols): print ('Contiene: ' + ' '.join(required_cols))\n",
    "else: print ('No contiene: ' + ''.join(required_cols))\n",
    "    \n",
    "if (set(fondo_diseno) <= set(default_cols) and set(fondo_real) <= set(default_cols)): print ('Contiene: ' + ' '.join(fondo_diseno) + ' '.join(fondo_real))\n",
    "else: print ('No contiene: ' + ' '.join(fondo_diseno) + ' '.join(fondo_real))\n",
    "    \n",
    "if (set(columna_diseno) <= set(default_cols) and set(columna_real) <= set(default_cols)): print ('Contiene: ' + ' '.join(columna_diseno) + ' '.join(columna_real))\n",
    "else: print ('No contiene: ' + ' '.join(columna_diseno) + ' '.join(columna_real))\n",
    "    \n",
    "    \n",
    "#Crear lista de columnas necesarias que si tiene el archvo:\n",
    "if set(required_cols) <= set(default_cols): necessary_cols_in_csv.extend(required_cols)\n",
    "if (set(fondo_diseno) <= set(default_cols) and set(fondo_real) <= set(default_cols)): necessary_cols_in_csv.extend(fondo_diseno+fondo_real)\n",
    "if (set(columna_diseno) <= set(default_cols) and set(columna_real) <= set(default_cols)): necessary_cols_in_csv.extend(columna_diseno+columna_real)\n",
    "\n",
    "\n",
    "#Armar la lista de [valores required_cols] + [explisvo real] +  [explosivo planificado]"
   ]
  },
  {
   "cell_type": "markdown",
   "metadata": {
    "ExecuteTime": {
     "end_time": "2021-04-08T12:11:55.216258Z",
     "start_time": "2021-04-08T12:11:55.211507Z"
    },
    "heading_collapsed": true,
    "hidden": true
   },
   "source": [
    "### Explosivo caso 1: Carga de Fondo"
   ]
  },
  {
   "cell_type": "markdown",
   "metadata": {
    "hidden": true
   },
   "source": [
    "Conservar solo las que son posibles de cargar con explosivos de fondo o mas"
   ]
  },
  {
   "cell_type": "code",
   "execution_count": 10,
   "metadata": {
    "ExecuteTime": {
     "end_time": "2021-04-08T18:20:18.545788Z",
     "start_time": "2021-04-08T18:20:18.512291Z"
    },
    "hidden": true
   },
   "outputs": [],
   "source": [
    "fondo_cols = ['CARGA FONDO DISENO ','KG FONDO DISENO ','CARGA FONDO REAL ','KG FONDO REAL ']"
   ]
  },
  {
   "cell_type": "code",
   "execution_count": 11,
   "metadata": {
    "ExecuteTime": {
     "end_time": "2021-04-08T18:20:18.590870Z",
     "start_time": "2021-04-08T18:20:18.548114Z"
    },
    "hidden": true
   },
   "outputs": [
    {
     "data": {
      "text/html": [
       "<div>\n",
       "<style scoped>\n",
       "    .dataframe tbody tr th:only-of-type {\n",
       "        vertical-align: middle;\n",
       "    }\n",
       "\n",
       "    .dataframe tbody tr th {\n",
       "        vertical-align: top;\n",
       "    }\n",
       "\n",
       "    .dataframe thead th {\n",
       "        text-align: right;\n",
       "    }\n",
       "</style>\n",
       "<table border=\"1\" class=\"dataframe\">\n",
       "  <thead>\n",
       "    <tr style=\"text-align: right;\">\n",
       "      <th></th>\n",
       "      <th>CARGA FONDO DISENO</th>\n",
       "      <th>KG FONDO DISENO</th>\n",
       "      <th>CARGA FONDO REAL</th>\n",
       "      <th>KG FONDO REAL</th>\n",
       "    </tr>\n",
       "  </thead>\n",
       "  <tbody>\n",
       "    <tr>\n",
       "      <th>1</th>\n",
       "      <td>EMULTEX BN</td>\n",
       "      <td>145</td>\n",
       "      <td>EMULTEX BN</td>\n",
       "      <td>145.0</td>\n",
       "    </tr>\n",
       "    <tr>\n",
       "      <th>2</th>\n",
       "      <td>EMULTEX BN</td>\n",
       "      <td>145</td>\n",
       "      <td>EMULTEX BN</td>\n",
       "      <td>145.0</td>\n",
       "    </tr>\n",
       "    <tr>\n",
       "      <th>3</th>\n",
       "      <td>EMULTEX BN</td>\n",
       "      <td>145</td>\n",
       "      <td>EMULTEX BN</td>\n",
       "      <td>145.0</td>\n",
       "    </tr>\n",
       "    <tr>\n",
       "      <th>4</th>\n",
       "      <td>EMULTEX BN</td>\n",
       "      <td>145</td>\n",
       "      <td>EMULTEX BN</td>\n",
       "      <td>145.0</td>\n",
       "    </tr>\n",
       "    <tr>\n",
       "      <th>5</th>\n",
       "      <td>EMULTEX BN</td>\n",
       "      <td>145</td>\n",
       "      <td>EMULTEX BN</td>\n",
       "      <td>145.0</td>\n",
       "    </tr>\n",
       "  </tbody>\n",
       "</table>\n",
       "</div>"
      ],
      "text/plain": [
       "  CARGA FONDO DISENO   KG FONDO DISENO  CARGA FONDO REAL   KG FONDO REAL \n",
       "1          EMULTEX BN               145        EMULTEX BN           145.0\n",
       "2          EMULTEX BN               145        EMULTEX BN           145.0\n",
       "3          EMULTEX BN               145        EMULTEX BN           145.0\n",
       "4          EMULTEX BN               145        EMULTEX BN           145.0\n",
       "5          EMULTEX BN               145        EMULTEX BN           145.0"
      ]
     },
     "execution_count": 11,
     "metadata": {},
     "output_type": "execute_result"
    }
   ],
   "source": [
    "df_fondo_ready = df.dropna(subset=['CARGA FONDO DISENO ','KG FONDO DISENO ','CARGA FONDO REAL ','KG FONDO REAL '])\n",
    "df_fondo_ready[fondo_cols].head(5)"
   ]
  },
  {
   "cell_type": "markdown",
   "metadata": {
    "hidden": true
   },
   "source": [
    "### Explosivo caso 2: Carga de Columna"
   ]
  },
  {
   "cell_type": "markdown",
   "metadata": {
    "ExecuteTime": {
     "end_time": "2021-04-08T12:29:33.239916Z",
     "start_time": "2021-04-08T12:29:33.236381Z"
    },
    "hidden": true
   },
   "source": [
    "Conservar solo las que son posibles de cargar con explosivos de columna o mas"
   ]
  },
  {
   "cell_type": "code",
   "execution_count": 12,
   "metadata": {
    "ExecuteTime": {
     "end_time": "2021-04-08T18:20:18.604812Z",
     "start_time": "2021-04-08T18:20:18.593667Z"
    },
    "hidden": true
   },
   "outputs": [],
   "source": [
    "columna_cols = ['CARGA COLUMNA  DISENO','KG COLUMNA DISENO','CARGA COLUMNA REAL','KG COLUMNA REAL']"
   ]
  },
  {
   "cell_type": "code",
   "execution_count": 13,
   "metadata": {
    "ExecuteTime": {
     "end_time": "2021-04-08T18:20:18.639306Z",
     "start_time": "2021-04-08T18:20:18.607636Z"
    },
    "hidden": true
   },
   "outputs": [
    {
     "data": {
      "text/html": [
       "<div>\n",
       "<style scoped>\n",
       "    .dataframe tbody tr th:only-of-type {\n",
       "        vertical-align: middle;\n",
       "    }\n",
       "\n",
       "    .dataframe tbody tr th {\n",
       "        vertical-align: top;\n",
       "    }\n",
       "\n",
       "    .dataframe thead th {\n",
       "        text-align: right;\n",
       "    }\n",
       "</style>\n",
       "<table border=\"1\" class=\"dataframe\">\n",
       "  <thead>\n",
       "    <tr style=\"text-align: right;\">\n",
       "      <th></th>\n",
       "      <th>CARGA COLUMNA  DISENO</th>\n",
       "      <th>KG COLUMNA DISENO</th>\n",
       "      <th>CARGA COLUMNA REAL</th>\n",
       "      <th>KG COLUMNA REAL</th>\n",
       "    </tr>\n",
       "  </thead>\n",
       "  <tbody>\n",
       "  </tbody>\n",
       "</table>\n",
       "</div>"
      ],
      "text/plain": [
       "Empty DataFrame\n",
       "Columns: [CARGA COLUMNA  DISENO, KG COLUMNA DISENO, CARGA COLUMNA REAL, KG COLUMNA REAL]\n",
       "Index: []"
      ]
     },
     "execution_count": 13,
     "metadata": {},
     "output_type": "execute_result"
    }
   ],
   "source": [
    "df_columna_ready = df.dropna(subset=['CARGA COLUMNA  DISENO','KG COLUMNA DISENO','CARGA COLUMNA REAL','KG COLUMNA REAL'])\n",
    "(df_columna_ready[columna_cols]).head(5)\n",
    "# df_columna_ready.to_csv('columna' + \".csv\", index=False)"
   ]
  },
  {
   "cell_type": "markdown",
   "metadata": {
    "hidden": true
   },
   "source": [
    "### Explosivo caso 3: Carga de Fondo y Columna"
   ]
  },
  {
   "cell_type": "code",
   "execution_count": 14,
   "metadata": {
    "ExecuteTime": {
     "end_time": "2021-04-08T18:20:18.677675Z",
     "start_time": "2021-04-08T18:20:18.641302Z"
    },
    "hidden": true
   },
   "outputs": [
    {
     "data": {
      "text/html": [
       "<div>\n",
       "<style scoped>\n",
       "    .dataframe tbody tr th:only-of-type {\n",
       "        vertical-align: middle;\n",
       "    }\n",
       "\n",
       "    .dataframe tbody tr th {\n",
       "        vertical-align: top;\n",
       "    }\n",
       "\n",
       "    .dataframe thead th {\n",
       "        text-align: right;\n",
       "    }\n",
       "</style>\n",
       "<table border=\"1\" class=\"dataframe\">\n",
       "  <thead>\n",
       "    <tr style=\"text-align: right;\">\n",
       "      <th></th>\n",
       "      <th>CARGA FONDO DISENO</th>\n",
       "      <th>KG FONDO DISENO</th>\n",
       "      <th>CARGA FONDO REAL</th>\n",
       "      <th>KG FONDO REAL</th>\n",
       "      <th>CARGA COLUMNA  DISENO</th>\n",
       "      <th>KG COLUMNA DISENO</th>\n",
       "      <th>CARGA COLUMNA REAL</th>\n",
       "      <th>KG COLUMNA REAL</th>\n",
       "    </tr>\n",
       "  </thead>\n",
       "  <tbody>\n",
       "  </tbody>\n",
       "</table>\n",
       "</div>"
      ],
      "text/plain": [
       "Empty DataFrame\n",
       "Columns: [CARGA FONDO DISENO , KG FONDO DISENO , CARGA FONDO REAL , KG FONDO REAL , CARGA COLUMNA  DISENO, KG COLUMNA DISENO, CARGA COLUMNA REAL, KG COLUMNA REAL]\n",
       "Index: []"
      ]
     },
     "execution_count": 14,
     "metadata": {},
     "output_type": "execute_result"
    }
   ],
   "source": [
    "cols = fondo_cols+columna_cols\n",
    "df_both_explosives = df.dropna(subset=['CARGA COLUMNA  DISENO',\n",
    "                                       'KG COLUMNA DISENO',\n",
    "                                       'CARGA COLUMNA REAL',\n",
    "                                       'KG COLUMNA REAL',\n",
    "                                       'CARGA FONDO DISENO ',\n",
    "                                       'KG FONDO DISENO ',\n",
    "                                       'CARGA FONDO REAL ',\n",
    "                                       'KG FONDO REAL '])\n",
    "df_both_explosives[cols].head(5)"
   ]
  },
  {
   "cell_type": "markdown",
   "metadata": {
    "hidden": true
   },
   "source": [
    "### Consolidación explosivos"
   ]
  },
  {
   "cell_type": "code",
   "execution_count": 15,
   "metadata": {
    "ExecuteTime": {
     "end_time": "2021-04-08T18:20:18.715373Z",
     "start_time": "2021-04-08T18:20:18.679475Z"
    },
    "hidden": true
   },
   "outputs": [],
   "source": [
    "#Valido pero solo con fondo\n",
    "df_only_fondo = pd.concat([df_fondo_ready,df_both_explosives]).drop_duplicates(keep=False)\n",
    "#Valido pero solo con columna\n",
    "df_only_columna = pd.concat([df_columna_ready,df_both_explosives]).drop_duplicates(keep=False)"
   ]
  },
  {
   "cell_type": "code",
   "execution_count": 16,
   "metadata": {
    "ExecuteTime": {
     "end_time": "2021-04-08T18:20:18.747467Z",
     "start_time": "2021-04-08T18:20:18.717181Z"
    },
    "hidden": true
   },
   "outputs": [],
   "source": [
    "filtered_aux = pd.concat([df_only_columna,df_only_fondo])\n",
    "filtered_df = pd.concat([filtered_aux,df_both_explosives])\n",
    "# filtered_df.to_csv(timestr + \".csv\", index=False)"
   ]
  },
  {
   "cell_type": "code",
   "execution_count": 17,
   "metadata": {
    "ExecuteTime": {
     "end_time": "2021-04-08T18:20:18.780053Z",
     "start_time": "2021-04-08T18:20:18.749224Z"
    },
    "hidden": true
   },
   "outputs": [],
   "source": [
    "df_not_ready = pd.concat([df,filtered_df]).drop_duplicates(keep=False)\n",
    "# df_not_ready = union[union.isnull().any(axis=1)]\n",
    "# not_ready_name = \"NoParaCargar\" + timestr\n",
    "# df_not_ready.to_csv(not_ready_name + \".csv\", index=False)"
   ]
  },
  {
   "cell_type": "code",
   "execution_count": 18,
   "metadata": {
    "ExecuteTime": {
     "end_time": "2021-04-08T18:20:18.803479Z",
     "start_time": "2021-04-08T18:20:18.782245Z"
    },
    "hidden": true
   },
   "outputs": [],
   "source": [
    "# df_len = int(len(df))\n",
    "# filtered_len = int(len(filtered_df))\n",
    "# outer_len = int(len(df_not_ready))\n",
    "# print(df_len)\n",
    "# print(filtered_len)\n",
    "# print(outer_len)"
   ]
  },
  {
   "cell_type": "markdown",
   "metadata": {
    "hidden": true
   },
   "source": [
    "Comprobar si el archivo contiene el número total de columnas que podría tener:"
   ]
  },
  {
   "cell_type": "markdown",
   "metadata": {
    "heading_collapsed": true
   },
   "source": [
    "## Tratamiento de Mallas"
   ]
  },
  {
   "cell_type": "code",
   "execution_count": 19,
   "metadata": {
    "ExecuteTime": {
     "end_time": "2021-04-08T18:20:18.833186Z",
     "start_time": "2021-04-08T18:20:18.806292Z"
    },
    "hidden": true
   },
   "outputs": [
    {
     "data": {
      "text/plain": [
       "1      MAF7-R1-2750-03\n",
       "2      MAF7-R1-2750-03\n",
       "3      MAF7-R1-2750-03\n",
       "4      MAF7-R1-2750-03\n",
       "5      MAF7-R1-2750-03\n",
       "            ...       \n",
       "168    MAF7-R1-2750-05\n",
       "169    MAF7-R1-2750-05\n",
       "170    MAF7-R1-2750-05\n",
       "171    MAF7-R1-2750-05\n",
       "172    MAF7-R1-2750-05\n",
       "Name: MALLA, Length: 169, dtype: object"
      ]
     },
     "execution_count": 19,
     "metadata": {},
     "output_type": "execute_result"
    }
   ],
   "source": [
    "df = filtered_df.copy()\n",
    "df['MALLA']"
   ]
  },
  {
   "cell_type": "code",
   "execution_count": 20,
   "metadata": {
    "ExecuteTime": {
     "end_time": "2021-04-08T18:20:18.861761Z",
     "start_time": "2021-04-08T18:20:18.836408Z"
    },
    "hidden": true
   },
   "outputs": [
    {
     "name": "stdout",
     "output_type": "stream",
     "text": [
      "Comprobando si el nombre de las mallas contiene prefijo válido:\n"
     ]
    }
   ],
   "source": [
    "print(\"Comprobando si el nombre de las mallas contiene prefijo válido:\")\n",
    "#Comprobar que el prefijo sea el correcto:\n",
    "check = []\n",
    "mensaje_neg = \"-> ERROR!, El nombre de las mallas NO cumple el formato de prefijos\"\n",
    "mensaje_pos = \"-> BIEN!, El nombre de las mallas SI cumple el formato de prefijos\"\n",
    "\n",
    "#lista de prefijos:\n",
    "# prefix_mallas = ['MAF07-R1', 'MAF09-SE', 'MAF10-N', 'MAF11-W', 'MAF9-SE','MAF7']\n",
    "\n",
    "# for m in range(0, len(df['MALLA'])):\n",
    "#     malla_contiene_prefijo = any(prefix_mallas in df['MALLA'][0] for prefix_mallas in prefix_mallas)\n",
    "#     check.append(malla_contiene_prefijo)\n",
    "# alerta(check)"
   ]
  },
  {
   "cell_type": "code",
   "execution_count": 21,
   "metadata": {
    "ExecuteTime": {
     "end_time": "2021-04-08T18:20:18.891524Z",
     "start_time": "2021-04-08T18:20:18.863853Z"
    },
    "hidden": true
   },
   "outputs": [
    {
     "name": "stdout",
     "output_type": "stream",
     "text": [
      "Revisando si existen mallas con sufijo \"_vm\":\n",
      "-> Se han econtrado 0 mallas con sufijo \"_vm\"\n"
     ]
    }
   ],
   "source": [
    "print('Revisando si existen mallas con sufijo \"_vm\":')\n",
    "suffix = '_vm'\n",
    "suffix_count = sum(1 for s in df['MALLA'] if s.endswith(suffix))\n",
    "print ('-> Se han econtrado '+ str(suffix_count)+' mallas con sufijo \"_vm\"')"
   ]
  },
  {
   "cell_type": "markdown",
   "metadata": {
    "heading_collapsed": true
   },
   "source": [
    "## Tratamiento de pozos"
   ]
  },
  {
   "cell_type": "code",
   "execution_count": 22,
   "metadata": {
    "ExecuteTime": {
     "end_time": "2021-04-08T18:20:18.917283Z",
     "start_time": "2021-04-08T18:20:18.894210Z"
    },
    "hidden": true
   },
   "outputs": [
    {
     "name": "stdout",
     "output_type": "stream",
     "text": [
      "Revisando identificador de pozo en la malla de perforación:\n",
      "-> Existen 0 pozos que no podrán ser importador por ser AUX o vacio\n"
     ]
    }
   ],
   "source": [
    "#Identificador de Pozo en la malla de perforacion\n",
    "print('Revisando identificador de pozo en la malla de perforación:')\n",
    "id_pozo = pd.to_numeric(df['ID POZO'], errors='coerce')\n",
    "print ('-> Existen '+ str(id_pozo.isna().sum()) + ' pozos que no podrán ser importador por ser AUX o vacio')"
   ]
  },
  {
   "cell_type": "code",
   "execution_count": 23,
   "metadata": {
    "ExecuteTime": {
     "end_time": "2021-04-08T18:20:18.946010Z",
     "start_time": "2021-04-08T18:20:18.921872Z"
    },
    "hidden": true
   },
   "outputs": [],
   "source": [
    "df_id_pozo = df.dropna(subset=['ID POZO'])\n",
    "df_id_pozo['ID POZO'] = list(map(str, df_id_pozo['ID POZO']))\n",
    "# df_id_pozo = df[~df['ID POZO'].contains(\"AUX\")]\n",
    "# df_id_pozo['ID POZO']"
   ]
  },
  {
   "cell_type": "code",
   "execution_count": 24,
   "metadata": {
    "ExecuteTime": {
     "end_time": "2021-04-08T18:20:18.981574Z",
     "start_time": "2021-04-08T18:20:18.949487Z"
    },
    "hidden": true
   },
   "outputs": [
    {
     "data": {
      "text/plain": [
       "1      169\n",
       "2      170\n",
       "3      171\n",
       "4      172\n",
       "5      173\n",
       "      ... \n",
       "168    410\n",
       "169    411\n",
       "170    412\n",
       "171    413\n",
       "172    414\n",
       "Name: ID POZO, Length: 169, dtype: object"
      ]
     },
     "execution_count": 24,
     "metadata": {},
     "output_type": "execute_result"
    }
   ],
   "source": [
    "df_id_pozo['ID POZO']"
   ]
  },
  {
   "cell_type": "markdown",
   "metadata": {
    "heading_collapsed": true
   },
   "source": [
    "## Formato de valores "
   ]
  },
  {
   "cell_type": "code",
   "execution_count": 25,
   "metadata": {
    "ExecuteTime": {
     "end_time": "2021-04-08T18:20:19.005319Z",
     "start_time": "2021-04-08T18:20:18.984325Z"
    },
    "hidden": true
   },
   "outputs": [],
   "source": [
    "df = df_id_pozo.copy()"
   ]
  },
  {
   "cell_type": "code",
   "execution_count": 26,
   "metadata": {
    "ExecuteTime": {
     "end_time": "2021-04-08T18:20:19.059209Z",
     "start_time": "2021-04-08T18:20:19.008266Z"
    },
    "hidden": true
   },
   "outputs": [
    {
     "name": "stdout",
     "output_type": "stream",
     "text": [
      "Asegurando exactitud valores numericos:\n"
     ]
    }
   ],
   "source": [
    "print('Asegurando exactitud valores numericos:')\n",
    "df['DIAMETRO PLG'] = np.around(list(map(float, df['DIAMETRO PLG'])),5)\n",
    "df['GRAVILLA INTERMEDIO DISENO '] = np.around(list(map(float, df['GRAVILLA INTERMEDIO DISENO '])),5)\n",
    "df['AIRE INTERMEDIO REAL '] = np.around(list(map(float, df['AIRE INTERMEDIO REAL '])),5)\n",
    "df['TACO GRAVILLA REAL '] = np.around(list(map(float, df['TACO GRAVILLA REAL '])),5)\n",
    "# data['DIAMETRO PLG']"
   ]
  },
  {
   "cell_type": "code",
   "execution_count": 27,
   "metadata": {
    "ExecuteTime": {
     "end_time": "2021-04-08T18:20:19.093067Z",
     "start_time": "2021-04-08T18:20:19.061296Z"
    },
    "hidden": true
   },
   "outputs": [
    {
     "name": "stdout",
     "output_type": "stream",
     "text": [
      "Asegurando formato de valores ...\n",
      "1. Asegurando columnas formato texto:\n",
      "-> Formato texto asegurado\n",
      "2. Asegurando columnas formato numero:\n",
      "-> Formato numérico asegurado\n"
     ]
    }
   ],
   "source": [
    "print ('Asegurando formato de valores ...')\n",
    "print ('1. Asegurando columnas formato texto:')\n",
    "df['MALLA'] = list(map(str, df['MALLA']))\n",
    "df['CARGA FONDO DISENOlo '] = list(map(str, df['CARGA FONDO DISENO ']))\n",
    "df['CARGA COLUMNA  DISENO'] = list(map(str, df['CARGA COLUMNA  DISENO']))\n",
    "df['CARGA FONDO REAL '] = list(map(str, df['CARGA FONDO REAL ']))\n",
    "df['CARGA COLUMNA REAL'] = list(map(str, df['CARGA COLUMNA REAL']))\n",
    "print ('-> Formato texto asegurado')\n",
    "print ('2. Asegurando columnas formato numero:')\n",
    "# df['ID POZO'] = list(map(float, df['ID POZO']))\n",
    "# df['DIAMETRO PLG'] = list(map(float, df['DIAMETRO PLG']))\n",
    "df['KG FONDO DISENO '] = list(map(float, df['KG FONDO DISENO ']))\n",
    "df['AIRE FONDO DISENO '] = list(map(float, df['AIRE FONDO DISENO ']))\n",
    "df['KG COLUMNA DISENO'] = list(map(float, df['KG COLUMNA DISENO']))\n",
    "df['AIRE FONDO DISENO '] = list(map(float, df['AIRE FONDO DISENO ']))\n",
    "df['AIRE SUPERIOR DISENO'] = list(map(float, df['AIRE SUPERIOR DISENO']))\n",
    "df['TACO GRAVILLA DISENO '] = list(map(float, df['TACO GRAVILLA DISENO ']))\n",
    "df['SECUENCIA DETONACION DISENO'] = list(map(float, df['SECUENCIA DETONACION DISENO']))\n",
    "df['PROFUNDIDAD REAL'] = list(map(float, df['PROFUNDIDAD REAL']))\n",
    "df['KG FONDO REAL '] = list(map(float, df['KG FONDO REAL ']))\n",
    "df['AIRE FONDO REAL '] = list(map(float, df['AIRE FONDO REAL ']))\n",
    "df['KG COLUMNA REAL'] = list(map(float, df['KG COLUMNA REAL']))\n",
    "df['AIRE SUPERIOR REAL'] = list(map(float, df['AIRE SUPERIOR REAL']))\n",
    "df['SECUENCIA DETONACION REAL'] = list(map(float, df['SECUENCIA DETONACION REAL']))\n",
    "df['AGUA'] = list(map(float, df['AGUA']))\n",
    "print ('-> Formato numérico asegurado')"
   ]
  },
  {
   "cell_type": "code",
   "execution_count": 28,
   "metadata": {
    "ExecuteTime": {
     "end_time": "2021-04-08T18:20:19.119298Z",
     "start_time": "2021-04-08T18:20:19.094656Z"
    },
    "hidden": true
   },
   "outputs": [
    {
     "name": "stdout",
     "output_type": "stream",
     "text": [
      "Comprobando información mínima de carga:\n",
      "Existen 169 mallas válidas\n",
      "Existen 169 id_pozo válidos\n",
      "Existen 169 diámetros PGL válidos\n"
     ]
    }
   ],
   "source": [
    "print ('Comprobando información mínima de carga:')\n",
    "print ('Existen '+ str(len(df['MALLA']))+' mallas válidas')\n",
    "print ('Existen '+ str(len(df['ID POZO']))+' id_pozo válidos')\n",
    "print ('Existen '+ str(len(df['DIAMETRO PLG']))+' diámetros PGL válidos')"
   ]
  },
  {
   "cell_type": "markdown",
   "metadata": {
    "heading_collapsed": true
   },
   "source": [
    "## Exportación"
   ]
  },
  {
   "cell_type": "code",
   "execution_count": 45,
   "metadata": {
    "ExecuteTime": {
     "end_time": "2021-04-08T18:24:17.996968Z",
     "start_time": "2021-04-08T18:24:17.993914Z"
    },
    "hidden": true
   },
   "outputs": [],
   "source": [
    "from pathlib import Path"
   ]
  },
  {
   "cell_type": "code",
   "execution_count": 46,
   "metadata": {
    "ExecuteTime": {
     "end_time": "2021-04-08T18:24:18.327046Z",
     "start_time": "2021-04-08T18:24:18.323777Z"
    },
    "hidden": true
   },
   "outputs": [],
   "source": [
    "Path(file_name).mkdir(parents=True, exist_ok=True)"
   ]
  },
  {
   "cell_type": "code",
   "execution_count": 47,
   "metadata": {
    "ExecuteTime": {
     "end_time": "2021-04-08T18:24:18.776738Z",
     "start_time": "2021-04-08T18:24:18.773967Z"
    },
    "hidden": true
   },
   "outputs": [],
   "source": [
    "export_dir = file_name+\"/\""
   ]
  },
  {
   "cell_type": "code",
   "execution_count": 48,
   "metadata": {
    "ExecuteTime": {
     "end_time": "2021-04-08T18:24:19.243374Z",
     "start_time": "2021-04-08T18:24:19.239136Z"
    },
    "hidden": true
   },
   "outputs": [
    {
     "data": {
      "text/plain": [
       "'02.01.21 MAF7-R1-2750-03-05-B/Valid-02.01.21 MAF7-R1-2750-03-05-B'"
      ]
     },
     "execution_count": 48,
     "metadata": {},
     "output_type": "execute_result"
    }
   ],
   "source": [
    "export_dir+export_name"
   ]
  },
  {
   "cell_type": "code",
   "execution_count": 49,
   "metadata": {
    "ExecuteTime": {
     "end_time": "2021-04-08T18:24:30.287299Z",
     "start_time": "2021-04-08T18:24:30.279488Z"
    },
    "hidden": true
   },
   "outputs": [
    {
     "name": "stdout",
     "output_type": "stream",
     "text": [
      "Archivo válido exportado: Valid-02.01.21 MAF7-R1-2750-03-05-B\n"
     ]
    }
   ],
   "source": [
    "export_name = 'Valid-' + file_name\n",
    "df.to_csv(export_dir+export_name + \".csv\", index=False)\n",
    "print ('Archivo válido exportado: ' + export_name)"
   ]
  },
  {
   "cell_type": "code",
   "execution_count": 50,
   "metadata": {
    "ExecuteTime": {
     "end_time": "2021-04-08T18:24:31.336087Z",
     "start_time": "2021-04-08T18:24:31.329250Z"
    },
    "hidden": true
   },
   "outputs": [
    {
     "name": "stdout",
     "output_type": "stream",
     "text": [
      "Archivo NO válido exportado: Invalid-02.01.21 MAF7-R1-2750-03-05-B\n"
     ]
    }
   ],
   "source": [
    "not_ready_name = \"Invalid-\" + file_name\n",
    "df_not_ready.to_csv(export_dir+not_ready_name + \".csv\", index=False)\n",
    "print ('Archivo NO válido exportado: ' + not_ready_name)"
   ]
  },
  {
   "cell_type": "code",
   "execution_count": null,
   "metadata": {
    "ExecuteTime": {
     "end_time": "2021-04-08T18:20:19.346751Z",
     "start_time": "2021-04-08T18:20:18.103Z"
    },
    "hidden": true
   },
   "outputs": [],
   "source": [
    "sys.stdout.close()"
   ]
  }
 ],
 "metadata": {
  "kernelspec": {
   "display_name": "Python 3",
   "language": "python",
   "name": "python3"
  },
  "language_info": {
   "codemirror_mode": {
    "name": "ipython",
    "version": 3
   },
   "file_extension": ".py",
   "mimetype": "text/x-python",
   "name": "python",
   "nbconvert_exporter": "python",
   "pygments_lexer": "ipython3",
   "version": "3.8.5"
  },
  "toc": {
   "base_numbering": 1,
   "nav_menu": {},
   "number_sections": false,
   "sideBar": true,
   "skip_h1_title": false,
   "title_cell": "Table of Contents",
   "title_sidebar": "Contents",
   "toc_cell": false,
   "toc_position": {},
   "toc_section_display": true,
   "toc_window_display": false
  }
 },
 "nbformat": 4,
 "nbformat_minor": 4
}
